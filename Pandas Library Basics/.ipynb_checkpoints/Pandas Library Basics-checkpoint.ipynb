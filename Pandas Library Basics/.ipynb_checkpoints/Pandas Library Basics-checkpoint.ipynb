{
 "cells": [
  {
   "cell_type": "code",
   "execution_count": 1,
   "id": "19b8ada6",
   "metadata": {},
   "outputs": [],
   "source": [
    "import numpy as np"
   ]
  },
  {
   "cell_type": "code",
   "execution_count": 2,
   "id": "cc9dfbe8",
   "metadata": {},
   "outputs": [],
   "source": [
    "import pandas as pd"
   ]
  },
  {
   "cell_type": "code",
   "execution_count": 3,
   "id": "7ed60337",
   "metadata": {},
   "outputs": [],
   "source": [
    "myIndex = ['United States', 'Taiwan', 'Pakistan', 'Austria']\n",
    "myData = [329500000, 23570000, 220900000, 8917000]"
   ]
  },
  {
   "cell_type": "code",
   "execution_count": 4,
   "id": "3b6aca63",
   "metadata": {},
   "outputs": [
    {
     "data": {
      "text/plain": [
       "United States    329500000\n",
       "Taiwan            23570000\n",
       "Pakistan         220900000\n",
       "Austria            8917000\n",
       "dtype: int64"
      ]
     },
     "execution_count": 4,
     "metadata": {},
     "output_type": "execute_result"
    }
   ],
   "source": [
    "mySeries = pd.Series(data = myData, index = myIndex)\n",
    "mySeries"
   ]
  },
  {
   "cell_type": "code",
   "execution_count": null,
   "id": "205dc4c3",
   "metadata": {},
   "outputs": [],
   "source": []
  }
 ],
 "metadata": {
  "kernelspec": {
   "display_name": "Python 3 (ipykernel)",
   "language": "python",
   "name": "python3"
  },
  "language_info": {
   "codemirror_mode": {
    "name": "ipython",
    "version": 3
   },
   "file_extension": ".py",
   "mimetype": "text/x-python",
   "name": "python",
   "nbconvert_exporter": "python",
   "pygments_lexer": "ipython3",
   "version": "3.10.4"
  }
 },
 "nbformat": 4,
 "nbformat_minor": 5
}
