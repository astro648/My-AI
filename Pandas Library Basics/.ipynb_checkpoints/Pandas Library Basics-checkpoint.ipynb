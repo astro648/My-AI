{
 "cells": [
  {
   "cell_type": "code",
   "execution_count": 1,
   "id": "19b8ada6",
   "metadata": {},
   "outputs": [],
   "source": [
    "import numpy as np"
   ]
  },
  {
   "cell_type": "code",
   "execution_count": 2,
   "id": "cc9dfbe8",
   "metadata": {},
   "outputs": [],
   "source": [
    "import pandas as pd"
   ]
  },
  {
   "cell_type": "code",
   "execution_count": 3,
   "id": "eca24298",
   "metadata": {},
   "outputs": [],
   "source": [
    "myIndex = ['United States', 'Taiwan', 'Pakistan', 'Austria']\n",
    "myData = [329500000, 23570000, 220900000, 8917000]"
   ]
  },
  {
   "cell_type": "code",
   "execution_count": 4,
   "id": "6984d137",
   "metadata": {},
   "outputs": [
    {
     "data": {
      "text/plain": [
       "United States    329500000\n",
       "Taiwan            23570000\n",
       "Pakistan         220900000\n",
       "Austria            8917000\n",
       "dtype: int64"
      ]
     },
     "execution_count": 4,
     "metadata": {},
     "output_type": "execute_result"
    }
   ],
   "source": [
    "mySeries = pd.Series(data = myData, index = myIndex)\n",
    "mySeries"
   ]
  },
  {
   "cell_type": "code",
   "execution_count": 5,
   "id": "fe4dd7c2",
   "metadata": {},
   "outputs": [
    {
     "data": {
      "text/plain": [
       "23570000"
      ]
     },
     "execution_count": 5,
     "metadata": {},
     "output_type": "execute_result"
    }
   ],
   "source": [
    "mySeries['Taiwan'] #prints population of Taiwan"
   ]
  },
  {
   "cell_type": "code",
   "execution_count": 6,
   "id": "1be45d7c",
   "metadata": {},
   "outputs": [],
   "source": [
    "#converts index to dictionary\n",
    "Q1 = {'United States': 329500000, 'Taiwan': 23570000, 'Pakistan': 220900000, 'Austria': 8917000} \n",
    "Q2 = {'United States': 329500000, 'Taiwan': 23570000, 'Pakistan': 220900000, 'Czechoslovakia': 10751122} "
   ]
  },
  {
   "cell_type": "code",
   "execution_count": 7,
   "id": "73928e8a",
   "metadata": {},
   "outputs": [
    {
     "data": {
      "text/plain": [
       "Index(['United States', 'Taiwan', 'Pakistan', 'Austria'], dtype='object')"
      ]
     },
     "execution_count": 7,
     "metadata": {},
     "output_type": "execute_result"
    }
   ],
   "source": [
    "Pop_Q1 = pd.Series(Q1) \n",
    "Pop_Q2 = pd.Series(Q2)\n",
    "Pop_Q1.keys() # get the keys of any series"
   ]
  },
  {
   "cell_type": "code",
   "execution_count": 8,
   "id": "e3a67fbd",
   "metadata": {},
   "outputs": [
    {
     "data": {
      "text/plain": [
       "Austria                   NaN\n",
       "Czechoslovakia            NaN\n",
       "Pakistan          441800000.0\n",
       "Taiwan             47140000.0\n",
       "United States     659000000.0\n",
       "dtype: float64"
      ]
     },
     "execution_count": 8,
     "metadata": {},
     "output_type": "execute_result"
    }
   ],
   "source": [
    "Pop_Q1 + Pop_Q2 # adds values, not the right way to"
   ]
  },
  {
   "cell_type": "code",
   "execution_count": 9,
   "id": "bdf72ede",
   "metadata": {},
   "outputs": [
    {
     "data": {
      "text/plain": [
       "Austria             8917000.0\n",
       "Czechoslovakia     10751122.0\n",
       "Pakistan          441800000.0\n",
       "Taiwan             47140000.0\n",
       "United States     659000000.0\n",
       "dtype: float64"
      ]
     },
     "execution_count": 9,
     "metadata": {},
     "output_type": "execute_result"
    }
   ],
   "source": [
    "Pop_Q1.add(Pop_Q2, fill_value = 0) #proper way"
   ]
  },
  {
   "cell_type": "code",
   "execution_count": 10,
   "id": "6303348f",
   "metadata": {},
   "outputs": [
    {
     "data": {
      "text/plain": [
       "array([[95, 11, 81],\n",
       "       [70, 63, 87],\n",
       "       [75,  9, 77],\n",
       "       [40,  4, 63]])"
      ]
     },
     "execution_count": 10,
     "metadata": {},
     "output_type": "execute_result"
    }
   ],
   "source": [
    "np.random.seed(101) #fixed random number\n",
    "randval = np.random.randint(0,101,(4,3)) # generating random number from 0-101 with 4x3 ndimensional array\n",
    "randval"
   ]
  },
  {
   "cell_type": "code",
   "execution_count": 11,
   "id": "f313f9af",
   "metadata": {},
   "outputs": [
    {
     "data": {
      "text/html": [
       "<div>\n",
       "<style scoped>\n",
       "    .dataframe tbody tr th:only-of-type {\n",
       "        vertical-align: middle;\n",
       "    }\n",
       "\n",
       "    .dataframe tbody tr th {\n",
       "        vertical-align: top;\n",
       "    }\n",
       "\n",
       "    .dataframe thead th {\n",
       "        text-align: right;\n",
       "    }\n",
       "</style>\n",
       "<table border=\"1\" class=\"dataframe\">\n",
       "  <thead>\n",
       "    <tr style=\"text-align: right;\">\n",
       "      <th></th>\n",
       "      <th>Jan</th>\n",
       "      <th>Feb</th>\n",
       "      <th>Mar</th>\n",
       "    </tr>\n",
       "  </thead>\n",
       "  <tbody>\n",
       "    <tr>\n",
       "      <th>United States</th>\n",
       "      <td>95</td>\n",
       "      <td>11</td>\n",
       "      <td>81</td>\n",
       "    </tr>\n",
       "    <tr>\n",
       "      <th>Taiwan</th>\n",
       "      <td>70</td>\n",
       "      <td>63</td>\n",
       "      <td>87</td>\n",
       "    </tr>\n",
       "    <tr>\n",
       "      <th>Pakistan</th>\n",
       "      <td>75</td>\n",
       "      <td>9</td>\n",
       "      <td>77</td>\n",
       "    </tr>\n",
       "    <tr>\n",
       "      <th>Austria</th>\n",
       "      <td>40</td>\n",
       "      <td>4</td>\n",
       "      <td>63</td>\n",
       "    </tr>\n",
       "  </tbody>\n",
       "</table>\n",
       "</div>"
      ],
      "text/plain": [
       "               Jan  Feb  Mar\n",
       "United States   95   11   81\n",
       "Taiwan          70   63   87\n",
       "Pakistan        75    9   77\n",
       "Austria         40    4   63"
      ]
     },
     "execution_count": 11,
     "metadata": {},
     "output_type": "execute_result"
    }
   ],
   "source": [
    "myIndex = ['United States', 'Taiwan', 'Pakistan', 'Austria']\n",
    "myColumns = ['Jan', 'Feb', 'Mar']\n",
    "df = pd.DataFrame(data = randval, index = myIndex, columns = myColumns)\n",
    "df"
   ]
  },
  {
   "cell_type": "code",
   "execution_count": null,
   "id": "a12a3666",
   "metadata": {},
   "outputs": [],
   "source": []
  }
 ],
 "metadata": {
  "kernelspec": {
   "display_name": "Python 3 (ipykernel)",
   "language": "python",
   "name": "python3"
  },
  "language_info": {
   "codemirror_mode": {
    "name": "ipython",
    "version": 3
   },
   "file_extension": ".py",
   "mimetype": "text/x-python",
   "name": "python",
   "nbconvert_exporter": "python",
   "pygments_lexer": "ipython3",
   "version": "3.10.4"
  }
 },
 "nbformat": 4,
 "nbformat_minor": 5
}
