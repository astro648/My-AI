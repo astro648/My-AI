{
 "cells": [
  {
   "cell_type": "code",
   "execution_count": 1,
   "id": "77f8c6af-8ab0-4f73-b8fe-a07ed829052a",
   "metadata": {},
   "outputs": [],
   "source": [
    "import numpy as np"
   ]
  },
  {
   "cell_type": "code",
   "execution_count": 2,
   "id": "ce5c028b-ef06-4a94-b32c-eea7eb0e305b",
   "metadata": {},
   "outputs": [],
   "source": [
    "import pandas as pd"
   ]
  },
  {
   "cell_type": "code",
   "execution_count": 3,
   "id": "500f25b9-9da7-4acb-80b8-fb566068dbb0",
   "metadata": {},
   "outputs": [],
   "source": [
    "languagesIndex = ['Python','Java','C++']\n",
    "usersData = [8200000,6880000,1800000]"
   ]
  },
  {
   "cell_type": "code",
   "execution_count": 4,
   "id": "bd8e3899-e4d8-4288-8b5f-64d780ae57d5",
   "metadata": {},
   "outputs": [
    {
     "data": {
      "text/plain": [
       "Python    8200000\n",
       "Java      6880000\n",
       "C++       1800000\n",
       "dtype: int64"
      ]
     },
     "execution_count": 4,
     "metadata": {},
     "output_type": "execute_result"
    }
   ],
   "source": [
    "programmingLanguages = pd.Series(data = usersData, index = languagesIndex)\n",
    "programmingLanguages"
   ]
  },
  {
   "cell_type": "code",
   "execution_count": 5,
   "id": "74db6350-d886-4b59-86f1-52f22858d2f1",
   "metadata": {},
   "outputs": [
    {
     "data": {
      "text/plain": [
       "8200000"
      ]
     },
     "execution_count": 5,
     "metadata": {},
     "output_type": "execute_result"
    }
   ],
   "source": [
    "programmingLanguages['Python']"
   ]
  },
  {
   "cell_type": "code",
   "execution_count": null,
   "id": "48a7d378-a70e-4c8a-9ab1-442f86e63755",
   "metadata": {},
   "outputs": [],
   "source": []
  }
 ],
 "metadata": {
  "kernelspec": {
   "display_name": "Python 3 (ipykernel)",
   "language": "python",
   "name": "python3"
  },
  "language_info": {
   "codemirror_mode": {
    "name": "ipython",
    "version": 3
   },
   "file_extension": ".py",
   "mimetype": "text/x-python",
   "name": "python",
   "nbconvert_exporter": "python",
   "pygments_lexer": "ipython3",
   "version": "3.9.13"
  }
 },
 "nbformat": 4,
 "nbformat_minor": 5
}
