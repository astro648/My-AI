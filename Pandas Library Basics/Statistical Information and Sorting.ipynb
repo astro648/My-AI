{
 "cells": [
  {
   "cell_type": "markdown",
   "id": "805e16e6-aa30-4f1b-a44b-bee41f22f8c3",
   "metadata": {},
   "source": [
    "# Statistical Information and Sorting"
   ]
  },
  {
   "cell_type": "code",
   "execution_count": 1,
   "id": "fe08d15d-fdbe-4917-af88-a4d9345b9552",
   "metadata": {},
   "outputs": [],
   "source": [
    "import numpy as np"
   ]
  },
  {
   "cell_type": "code",
   "execution_count": 2,
   "id": "28bec2db-5d52-434e-8c8d-e002ecb2beee",
   "metadata": {},
   "outputs": [],
   "source": [
    "import pandas as pd"
   ]
  },
  {
   "cell_type": "code",
   "execution_count": null,
   "id": "1ac3f056-bea6-4a1d-8647-93d34fab0652",
   "metadata": {},
   "outputs": [],
   "source": []
  }
 ],
 "metadata": {
  "kernelspec": {
   "display_name": "Python 3 (ipykernel)",
   "language": "python",
   "name": "python3"
  },
  "language_info": {
   "codemirror_mode": {
    "name": "ipython",
    "version": 3
   },
   "file_extension": ".py",
   "mimetype": "text/x-python",
   "name": "python",
   "nbconvert_exporter": "python",
   "pygments_lexer": "ipython3",
   "version": "3.9.13"
  }
 },
 "nbformat": 4,
 "nbformat_minor": 5
}
