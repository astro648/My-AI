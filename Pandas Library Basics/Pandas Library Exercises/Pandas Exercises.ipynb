{
 "cells": [
  {
   "cell_type": "markdown",
   "id": "faa4bfe1-54e3-4887-b24f-43a48a80a20c",
   "metadata": {},
   "source": [
    "## Pandas Exercises"
   ]
  },
  {
   "cell_type": "markdown",
   "id": "a83c8d28-178b-4c41-a836-703b236721ae",
   "metadata": {},
   "source": [
    "#### Imports"
   ]
  },
  {
   "cell_type": "code",
   "execution_count": 1,
   "id": "e30ebe6f-6d08-460e-a02b-aefb81d5364a",
   "metadata": {},
   "outputs": [],
   "source": [
    "import numpy as np\n",
    "import pandas as pd"
   ]
  },
  {
   "cell_type": "code",
   "execution_count": 2,
   "id": "a370964d-1dd9-400c-ba90-69b719689b90",
   "metadata": {},
   "outputs": [],
   "source": [
    "df = pd.read_csv('hotel_booking.csv')"
   ]
  },
  {
   "cell_type": "markdown",
   "id": "186b2e2e-5cbe-45ce-be9b-2f5c0c94bd9c",
   "metadata": {},
   "source": [
    "#### 1. How many rows are there?"
   ]
  },
  {
   "cell_type": "code",
   "execution_count": 3,
   "id": "f1191e83-bb07-4cfe-a00f-589ace72e944",
   "metadata": {},
   "outputs": [
    {
     "data": {
      "text/plain": [
       "119390"
      ]
     },
     "execution_count": 3,
     "metadata": {},
     "output_type": "execute_result"
    }
   ],
   "source": [
    "len(df)"
   ]
  },
  {
   "cell_type": "markdown",
   "id": "6b69604c-437a-425d-8b7a-d50ff7795353",
   "metadata": {},
   "source": []
  }
 ],
 "metadata": {
  "kernelspec": {
   "display_name": "Python 3 (ipykernel)",
   "language": "python",
   "name": "python3"
  },
  "language_info": {
   "codemirror_mode": {
    "name": "ipython",
    "version": 3
   },
   "file_extension": ".py",
   "mimetype": "text/x-python",
   "name": "python",
   "nbconvert_exporter": "python",
   "pygments_lexer": "ipython3",
   "version": "3.9.13"
  }
 },
 "nbformat": 4,
 "nbformat_minor": 5
}
