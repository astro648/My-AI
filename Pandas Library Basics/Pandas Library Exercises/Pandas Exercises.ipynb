{
 "cells": [
  {
   "cell_type": "markdown",
   "id": "faa4bfe1-54e3-4887-b24f-43a48a80a20c",
   "metadata": {},
   "source": [
    "## Pandas Exercises"
   ]
  },
  {
   "cell_type": "markdown",
   "id": "1a53986b-ec53-417b-b173-4c95af82c219",
   "metadata": {},
   "source": [
    "The task images are all in the same directory of this file. The tasks are also written in markdown, copied from the images."
   ]
  },
  {
   "cell_type": "markdown",
   "id": "a83c8d28-178b-4c41-a836-703b236721ae",
   "metadata": {},
   "source": [
    "#### Imports"
   ]
  },
  {
   "cell_type": "code",
   "execution_count": 1,
   "id": "e30ebe6f-6d08-460e-a02b-aefb81d5364a",
   "metadata": {},
   "outputs": [],
   "source": [
    "import numpy as np\n",
    "import pandas as pd"
   ]
  },
  {
   "cell_type": "code",
   "execution_count": 2,
   "id": "a370964d-1dd9-400c-ba90-69b719689b90",
   "metadata": {},
   "outputs": [],
   "source": [
    "df = pd.read_csv('hotel_booking.csv')"
   ]
  },
  {
   "cell_type": "markdown",
   "id": "186b2e2e-5cbe-45ce-be9b-2f5c0c94bd9c",
   "metadata": {},
   "source": [
    "#### 1. How many rows are there?"
   ]
  },
  {
   "cell_type": "code",
   "execution_count": 3,
   "id": "f1191e83-bb07-4cfe-a00f-589ace72e944",
   "metadata": {},
   "outputs": [
    {
     "data": {
      "text/plain": [
       "119390"
      ]
     },
     "execution_count": 3,
     "metadata": {},
     "output_type": "execute_result"
    }
   ],
   "source": [
    "len(df)"
   ]
  },
  {
   "cell_type": "markdown",
   "id": "6b69604c-437a-425d-8b7a-d50ff7795353",
   "metadata": {},
   "source": [
    "#### 2. Is there missing data? If so, which column has the most missing data?"
   ]
  },
  {
   "cell_type": "code",
   "execution_count": 4,
   "id": "61f34e9f-5655-442c-9099-aac5e6d5162f",
   "metadata": {},
   "outputs": [
    {
     "data": {
      "text/plain": [
       "'company'"
      ]
     },
     "execution_count": 4,
     "metadata": {},
     "output_type": "execute_result"
    }
   ],
   "source": [
    "df.count().idxmin()"
   ]
  },
  {
   "cell_type": "markdown",
   "id": "ab0d6223-7e0d-49d2-870e-cd754c8b5565",
   "metadata": {},
   "source": [
    "#### 3. What percentage of hotel guests were classified as repeat stays? Base this off the `is_repeated_guest` column"
   ]
  },
  {
   "cell_type": "code",
   "execution_count": 5,
   "id": "bf1706d5-adb0-4951-aed9-5d3b04526969",
   "metadata": {},
   "outputs": [
    {
     "data": {
      "text/plain": [
       "3.19"
      ]
     },
     "execution_count": 5,
     "metadata": {},
     "output_type": "execute_result"
    }
   ],
   "source": [
    "round( 100*sum(df['is_repeated_guest']==1)/len(df) , 2 ) #only put len(df) instead of len(df['is_repeated_guest']\n",
    "# the round function will round the code to 2 digits"
   ]
  },
  {
   "cell_type": "markdown",
   "id": "b9864eb7-2246-4a82-a6e7-c43d24cf29db",
   "metadata": {},
   "source": [
    "#### 4. What were the top 5 most common names in the dataset? Bonus if you can do it in 1 line of code"
   ]
  },
  {
   "cell_type": "code",
   "execution_count": 6,
   "id": "4d9afd98-fb64-4677-8886-758542ddbcc7",
   "metadata": {},
   "outputs": [
    {
     "data": {
      "text/plain": [
       "['Michael Johnson',\n",
       " 'Robert Smith',\n",
       " 'Michael Smith',\n",
       " 'John Smith',\n",
       " 'Christopher Smith']"
      ]
     },
     "execution_count": 6,
     "metadata": {},
     "output_type": "execute_result"
    }
   ],
   "source": [
    "df['name'].value_counts().index.tolist()[:5]"
   ]
  },
  {
   "cell_type": "code",
   "execution_count": null,
   "id": "425401ec-995b-412b-9f36-28bdd331e70e",
   "metadata": {},
   "outputs": [],
   "source": []
  }
 ],
 "metadata": {
  "kernelspec": {
   "display_name": "Python 3 (ipykernel)",
   "language": "python",
   "name": "python3"
  },
  "language_info": {
   "codemirror_mode": {
    "name": "ipython",
    "version": 3
   },
   "file_extension": ".py",
   "mimetype": "text/x-python",
   "name": "python",
   "nbconvert_exporter": "python",
   "pygments_lexer": "ipython3",
   "version": "3.9.13"
  }
 },
 "nbformat": 4,
 "nbformat_minor": 5
}
