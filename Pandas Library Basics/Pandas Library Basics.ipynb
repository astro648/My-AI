{
 "cells": [
  {
   "cell_type": "code",
   "execution_count": 1,
   "id": "19b8ada6",
   "metadata": {},
   "outputs": [],
   "source": [
    "import numpy as np"
   ]
  },
  {
   "cell_type": "code",
   "execution_count": 2,
   "id": "cc9dfbe8",
   "metadata": {},
   "outputs": [],
   "source": [
    "import pandas as pd"
   ]
  },
  {
   "cell_type": "code",
   "execution_count": 3,
   "id": "63bd9ff8",
   "metadata": {},
   "outputs": [],
   "source": [
    "myIndex = ['United States', 'Taiwan', 'Pakistan', 'Austria']\n",
    "myData = [329500000, 23570000, 220900000, 8917000]"
   ]
  },
  {
   "cell_type": "code",
   "execution_count": 4,
   "id": "3ccaddd9",
   "metadata": {},
   "outputs": [
    {
     "data": {
      "text/plain": [
       "United States    329500000\n",
       "Taiwan            23570000\n",
       "Pakistan         220900000\n",
       "Austria            8917000\n",
       "dtype: int64"
      ]
     },
     "execution_count": 4,
     "metadata": {},
     "output_type": "execute_result"
    }
   ],
   "source": [
    "mySeries = pd.Series(data = myData, index = myIndex)\n",
    "mySeries"
   ]
  },
  {
   "cell_type": "code",
   "execution_count": 5,
   "id": "e30b57f6",
   "metadata": {},
   "outputs": [
    {
     "data": {
      "text/plain": [
       "23570000"
      ]
     },
     "execution_count": 5,
     "metadata": {},
     "output_type": "execute_result"
    }
   ],
   "source": [
    "mySeries['Taiwan'] #prints population of Taiwan"
   ]
  },
  {
   "cell_type": "code",
   "execution_count": 6,
   "id": "7a586fa3",
   "metadata": {},
   "outputs": [],
   "source": [
    "#converts index to dictionary\n",
    "Q1 = {'United States': 329500000, 'Taiwan': 23570000, 'Pakistan': 220900000, 'Austria': 8917000} \n",
    "Q2 = {'United States': 329500000, 'Taiwan': 23570000, 'Pakistan': 220900000, 'Czechoslovakia': 10751122} "
   ]
  },
  {
   "cell_type": "code",
   "execution_count": 7,
   "id": "b79777c3",
   "metadata": {},
   "outputs": [
    {
     "data": {
      "text/plain": [
       "Index(['United States', 'Taiwan', 'Pakistan', 'Austria'], dtype='object')"
      ]
     },
     "execution_count": 7,
     "metadata": {},
     "output_type": "execute_result"
    }
   ],
   "source": [
    "Pop_Q1 = pd.Series(Q1) \n",
    "Pop_Q2 = pd.Series(Q2)\n",
    "Pop_Q1.keys() # get the keys of any series"
   ]
  },
  {
   "cell_type": "code",
   "execution_count": 8,
   "id": "f42c2d57",
   "metadata": {},
   "outputs": [
    {
     "data": {
      "text/plain": [
       "Austria                   NaN\n",
       "Czechoslovakia            NaN\n",
       "Pakistan          441800000.0\n",
       "Taiwan             47140000.0\n",
       "United States     659000000.0\n",
       "dtype: float64"
      ]
     },
     "execution_count": 8,
     "metadata": {},
     "output_type": "execute_result"
    }
   ],
   "source": [
    "Pop_Q1 + Pop_Q2 # adds values, not the right way to"
   ]
  },
  {
   "cell_type": "code",
   "execution_count": null,
   "id": "6611373b",
   "metadata": {},
   "outputs": [],
   "source": [
    "Pop_Q1.add(Pop_Q2.fil)"
   ]
  }
 ],
 "metadata": {
  "kernelspec": {
   "display_name": "Python 3 (ipykernel)",
   "language": "python",
   "name": "python3"
  },
  "language_info": {
   "codemirror_mode": {
    "name": "ipython",
    "version": 3
   },
   "file_extension": ".py",
   "mimetype": "text/x-python",
   "name": "python",
   "nbconvert_exporter": "python",
   "pygments_lexer": "ipython3",
   "version": "3.10.4"
  }
 },
 "nbformat": 4,
 "nbformat_minor": 5
}
