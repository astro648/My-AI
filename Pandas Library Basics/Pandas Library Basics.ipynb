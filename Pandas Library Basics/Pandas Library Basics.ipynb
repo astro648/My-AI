{
 "cells": [
  {
   "cell_type": "code",
   "execution_count": 1,
   "id": "19b8ada6",
   "metadata": {},
   "outputs": [],
   "source": [
    "import numpy as np"
   ]
  },
  {
   "cell_type": "code",
   "execution_count": 2,
   "id": "cc9dfbe8",
   "metadata": {},
   "outputs": [],
   "source": [
    "import pandas as pd"
   ]
  },
  {
   "cell_type": "code",
   "execution_count": 3,
   "id": "f8bd0f0b",
   "metadata": {},
   "outputs": [],
   "source": [
    "myIndex = ['United States', 'Taiwan', 'Pakistan', 'Austria']\n",
    "myData = [329500000, 23570000, 220900000, 8917000]"
   ]
  },
  {
   "cell_type": "code",
   "execution_count": 4,
   "id": "01dd622a",
   "metadata": {},
   "outputs": [
    {
     "data": {
      "text/plain": [
       "United States    329500000\n",
       "Taiwan            23570000\n",
       "Pakistan         220900000\n",
       "Austria            8917000\n",
       "dtype: int64"
      ]
     },
     "execution_count": 4,
     "metadata": {},
     "output_type": "execute_result"
    }
   ],
   "source": [
    "mySeries = pd.Series(data = myData, index = myIndex)\n",
    "mySeries"
   ]
  },
  {
   "cell_type": "code",
   "execution_count": 5,
   "id": "42a3210f",
   "metadata": {},
   "outputs": [
    {
     "data": {
      "text/plain": [
       "23570000"
      ]
     },
     "execution_count": 5,
     "metadata": {},
     "output_type": "execute_result"
    }
   ],
   "source": [
    "mySeries['Taiwan'] #prints population of Taiwan"
   ]
  },
  {
   "cell_type": "code",
   "execution_count": 6,
   "id": "4e7d7b64",
   "metadata": {},
   "outputs": [],
   "source": [
    "#converts index to dictionary\n",
    "Q1 = {'United States': 329500000, 'Taiwan': 23570000, 'Pakistan': 220900000, 'Austria': 8917000} \n",
    "Q2 = {'United States': 329500000, 'Taiwan': 23570000, 'Pakistan': 220900000, 'Czechoslovakia': 10751122} "
   ]
  },
  {
   "cell_type": "code",
   "execution_count": 7,
   "id": "b7e653af",
   "metadata": {},
   "outputs": [
    {
     "data": {
      "text/plain": [
       "Index(['United States', 'Taiwan', 'Pakistan', 'Austria'], dtype='object')"
      ]
     },
     "execution_count": 7,
     "metadata": {},
     "output_type": "execute_result"
    }
   ],
   "source": [
    "Pop_Q1 = pd.Series(Q1) \n",
    "Pop_Q2 = pd.Series(Q2)\n",
    "Pop_Q1.keys() # get the keys of any series"
   ]
  },
  {
   "cell_type": "code",
   "execution_count": 8,
   "id": "e93b2779",
   "metadata": {},
   "outputs": [
    {
     "data": {
      "text/plain": [
       "Austria                   NaN\n",
       "Czechoslovakia            NaN\n",
       "Pakistan          441800000.0\n",
       "Taiwan             47140000.0\n",
       "United States     659000000.0\n",
       "dtype: float64"
      ]
     },
     "execution_count": 8,
     "metadata": {},
     "output_type": "execute_result"
    }
   ],
   "source": [
    "Pop_Q1 + Pop_Q2 # adds values, not the right way to"
   ]
  },
  {
   "cell_type": "code",
   "execution_count": 9,
   "id": "c0591880",
   "metadata": {},
   "outputs": [
    {
     "data": {
      "text/plain": [
       "Austria             8917000.0\n",
       "Czechoslovakia     10751122.0\n",
       "Pakistan          441800000.0\n",
       "Taiwan             47140000.0\n",
       "United States     659000000.0\n",
       "dtype: float64"
      ]
     },
     "execution_count": 9,
     "metadata": {},
     "output_type": "execute_result"
    }
   ],
   "source": [
    "Pop_Q1.add(Pop_Q2, fill_value = 0) #proper way"
   ]
  },
  {
   "cell_type": "code",
   "execution_count": 16,
   "id": "d483ec83",
   "metadata": {},
   "outputs": [
    {
     "data": {
      "text/plain": [
       "11"
      ]
     },
     "execution_count": 16,
     "metadata": {},
     "output_type": "execute_result"
    }
   ],
   "source": [
    "# np.random.seed(101)\n",
    "randval = np.random.randint(0,101)\n",
    "randval"
   ]
  },
  {
   "cell_type": "code",
   "execution_count": null,
   "id": "a6ad843c",
   "metadata": {},
   "outputs": [],
   "source": []
  }
 ],
 "metadata": {
  "kernelspec": {
   "display_name": "Python 3 (ipykernel)",
   "language": "python",
   "name": "python3"
  },
  "language_info": {
   "codemirror_mode": {
    "name": "ipython",
    "version": 3
   },
   "file_extension": ".py",
   "mimetype": "text/x-python",
   "name": "python",
   "nbconvert_exporter": "python",
   "pygments_lexer": "ipython3",
   "version": "3.10.4"
  }
 },
 "nbformat": 4,
 "nbformat_minor": 5
}
