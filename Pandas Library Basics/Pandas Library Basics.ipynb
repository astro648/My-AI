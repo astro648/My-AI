{
 "cells": [
  {
   "cell_type": "code",
   "execution_count": 1,
   "id": "19b8ada6",
   "metadata": {},
   "outputs": [],
   "source": [
    "import numpy as np"
   ]
  },
  {
   "cell_type": "code",
   "execution_count": 2,
   "id": "cc9dfbe8",
   "metadata": {},
   "outputs": [
    {
     "ename": "ModuleNotFoundError",
     "evalue": "No module named 'pandas'",
     "output_type": "error",
     "traceback": [
      "\u001b[1;31m---------------------------------------------------------------------------\u001b[0m",
      "\u001b[1;31mModuleNotFoundError\u001b[0m                       Traceback (most recent call last)",
      "\u001b[1;32m~\\AppData\\Local\\Temp\\ipykernel_9636\\4080736814.py\u001b[0m in \u001b[0;36m<module>\u001b[1;34m\u001b[0m\n\u001b[1;32m----> 1\u001b[1;33m \u001b[1;32mimport\u001b[0m \u001b[0mpandas\u001b[0m \u001b[1;32mas\u001b[0m \u001b[0mpd\u001b[0m\u001b[1;33m\u001b[0m\u001b[1;33m\u001b[0m\u001b[0m\n\u001b[0m",
      "\u001b[1;31mModuleNotFoundError\u001b[0m: No module named 'pandas'"
     ]
    }
   ],
   "source": [
    "import pandas as pd"
   ]
  },
  {
   "cell_type": "code",
   "execution_count": null,
   "id": "eca24298",
   "metadata": {},
   "outputs": [],
   "source": [
    "myIndex = ['United States', 'Taiwan', 'Pakistan', 'Austria']\n",
    "myData = [329500000, 23570000, 220900000, 8917000]"
   ]
  },
  {
   "cell_type": "code",
   "execution_count": null,
   "id": "6984d137",
   "metadata": {},
   "outputs": [],
   "source": [
    "mySeries = pd.Series(data = myData, index = myIndex)\n",
    "mySeries"
   ]
  },
  {
   "cell_type": "code",
   "execution_count": null,
   "id": "fe4dd7c2",
   "metadata": {},
   "outputs": [],
   "source": [
    "mySeries['Taiwan'] #prints population of Taiwan"
   ]
  },
  {
   "cell_type": "code",
   "execution_count": null,
   "id": "1be45d7c",
   "metadata": {},
   "outputs": [],
   "source": [
    "#converts index to dictionary\n",
    "Q1 = {'United States': 329500000, 'Taiwan': 23570000, 'Pakistan': 220900000, 'Austria': 8917000} \n",
    "Q2 = {'United States': 329500000, 'Taiwan': 23570000, 'Pakistan': 220900000, 'Czechoslovakia': 10751122} "
   ]
  },
  {
   "cell_type": "code",
   "execution_count": null,
   "id": "73928e8a",
   "metadata": {},
   "outputs": [],
   "source": [
    "Pop_Q1 = pd.Series(Q1) \n",
    "Pop_Q2 = pd.Series(Q2)\n",
    "Pop_Q1.keys() # get the keys of any series"
   ]
  },
  {
   "cell_type": "code",
   "execution_count": null,
   "id": "e3a67fbd",
   "metadata": {},
   "outputs": [],
   "source": [
    "Pop_Q1 + Pop_Q2 # adds values, not the right way to"
   ]
  },
  {
   "cell_type": "code",
   "execution_count": null,
   "id": "bdf72ede",
   "metadata": {},
   "outputs": [],
   "source": [
    "Pop_Q1.add(Pop_Q2, fill_value = 0) #proper way"
   ]
  },
  {
   "cell_type": "code",
   "execution_count": null,
   "id": "6303348f",
   "metadata": {},
   "outputs": [],
   "source": [
    "np.random.seed(101) #fixed random number\n",
    "randval = np.random.randint(0,101,(4,3)) # generating random number from 0-101 with 4x3 ndimensional array\n",
    "randval"
   ]
  },
  {
   "cell_type": "code",
   "execution_count": null,
   "id": "f313f9af",
   "metadata": {},
   "outputs": [],
   "source": [
    "myIndex = ['United States', 'Taiwan', 'Pakistan', 'Austria']\n",
    "myColumns = ['Jan', 'Feb', 'Mar']\n",
    "df = pd.DataFrame(data = randval, index = myIndex, columns = myColumns)\n",
    "df"
   ]
  },
  {
   "cell_type": "code",
   "execution_count": null,
   "id": "a12a3666",
   "metadata": {},
   "outputs": [],
   "source": [
    "df = pd.read_csv('churn.csv') # reads the data from the csv"
   ]
  },
  {
   "cell_type": "code",
   "execution_count": null,
   "id": "adb5591d",
   "metadata": {},
   "outputs": [],
   "source": [
    "df"
   ]
  },
  {
   "cell_type": "code",
   "execution_count": null,
   "id": "cba541bc",
   "metadata": {},
   "outputs": [],
   "source": [
    "df.info()"
   ]
  },
  {
   "cell_type": "code",
   "execution_count": null,
   "id": "165fcc74",
   "metadata": {},
   "outputs": [],
   "source": [
    "df.columns"
   ]
  },
  {
   "cell_type": "code",
   "execution_count": null,
   "id": "47b5ccc6",
   "metadata": {},
   "outputs": [],
   "source": [
    "df.index"
   ]
  },
  {
   "cell_type": "code",
   "execution_count": null,
   "id": "4fe5e32d",
   "metadata": {},
   "outputs": [],
   "source": [
    "df.head(2) # shows the first few rows according to the values you specified"
   ]
  },
  {
   "cell_type": "code",
   "execution_count": null,
   "id": "b2a80cc6",
   "metadata": {},
   "outputs": [],
   "source": [
    "df.head(5)"
   ]
  },
  {
   "cell_type": "code",
   "execution_count": null,
   "id": "162769fb",
   "metadata": {},
   "outputs": [],
   "source": [
    "df.describe() # gives information on your data"
   ]
  },
  {
   "cell_type": "code",
   "execution_count": null,
   "id": "4fe4bd7d",
   "metadata": {},
   "outputs": [],
   "source": [
    "df.describe().transpose()"
   ]
  },
  {
   "cell_type": "code",
   "execution_count": null,
   "id": "06c7aed6",
   "metadata": {},
   "outputs": [],
   "source": [
    "df['PhoneService']"
   ]
  },
  {
   "cell_type": "code",
   "execution_count": null,
   "id": "ea05cdd5",
   "metadata": {},
   "outputs": [],
   "source": [
    "myColumn = ['PhoneService','InternetService']"
   ]
  },
  {
   "cell_type": "code",
   "execution_count": null,
   "id": "6659af82",
   "metadata": {},
   "outputs": [],
   "source": [
    "df[myColumn]"
   ]
  },
  {
   "cell_type": "code",
   "execution_count": null,
   "id": "03a90f16",
   "metadata": {},
   "outputs": [],
   "source": [
    "df"
   ]
  },
  {
   "cell_type": "code",
   "execution_count": null,
   "id": "c618dd7d",
   "metadata": {},
   "outputs": [],
   "source": [
    "df['MonthlyCharges']+3"
   ]
  },
  {
   "cell_type": "code",
   "execution_count": null,
   "id": "e12386c8",
   "metadata": {},
   "outputs": [],
   "source": [
    "df.set_index('customerID') # now the customerid is the index"
   ]
  },
  {
   "cell_type": "code",
   "execution_count": null,
   "id": "f7abd55c",
   "metadata": {},
   "outputs": [],
   "source": [
    "df.reset_index()"
   ]
  },
  {
   "cell_type": "code",
   "execution_count": null,
   "id": "c65fdb38",
   "metadata": {},
   "outputs": [],
   "source": [
    "df.set_index('customerID')"
   ]
  },
  {
   "cell_type": "code",
   "execution_count": null,
   "id": "bdc9a4f8",
   "metadata": {},
   "outputs": [],
   "source": [
    "df.iloc[2] #individual location, starts from zero"
   ]
  },
  {
   "cell_type": "code",
   "execution_count": null,
   "id": "6b3c6e87",
   "metadata": {},
   "outputs": [],
   "source": [
    "# df.loc['9237-HQITU']"
   ]
  },
  {
   "cell_type": "code",
   "execution_count": null,
   "id": "88a52856",
   "metadata": {},
   "outputs": [],
   "source": [
    "df.['tenure']"
   ]
  },
  {
   "cell_type": "code",
   "execution_count": null,
   "id": "7b98fc39",
   "metadata": {},
   "outputs": [],
   "source": [
    "df[df['tenure']>50] # show only the ones greater than fifty"
   ]
  },
  {
   "cell_type": "code",
   "execution_count": null,
   "id": "5e158d26",
   "metadata": {},
   "outputs": [],
   "source": [
    "df[df['Churn']=='Yes']"
   ]
  },
  {
   "cell_type": "code",
   "execution_count": null,
   "id": "fd55da99",
   "metadata": {
    "scrolled": false
   },
   "outputs": [],
   "source": [
    "df[(df['tenure']>50) & (df['Churn']=='Yes')]"
   ]
  },
  {
   "cell_type": "code",
   "execution_count": null,
   "id": "1efde841",
   "metadata": {},
   "outputs": [],
   "source": [
    "df[(df['tenure']>50) | (df['tenure']>60) | (df['tenure']>80)]"
   ]
  },
  {
   "cell_type": "code",
   "execution_count": null,
   "id": "6215086d",
   "metadata": {},
   "outputs": [],
   "source": [
    "values = ['DSL', 'No']"
   ]
  },
  {
   "cell_type": "code",
   "execution_count": null,
   "id": "b679886e",
   "metadata": {},
   "outputs": [],
   "source": [
    "df['InternetService'].isin(values)"
   ]
  },
  {
   "cell_type": "code",
   "execution_count": null,
   "id": "aad2d706",
   "metadata": {},
   "outputs": [],
   "source": [
    "df['customerID'][0:2]"
   ]
  },
  {
   "cell_type": "code",
   "execution_count": null,
   "id": "d8c2df49",
   "metadata": {},
   "outputs": [],
   "source": []
  }
 ],
 "metadata": {
  "kernelspec": {
   "display_name": "Python 3 (ipykernel)",
   "language": "python",
   "name": "python3"
  },
  "language_info": {
   "codemirror_mode": {
    "name": "ipython",
    "version": 3
   },
   "file_extension": ".py",
   "mimetype": "text/x-python",
   "name": "python",
   "nbconvert_exporter": "python",
   "pygments_lexer": "ipython3",
   "version": "3.10.6"
  }
 },
 "nbformat": 4,
 "nbformat_minor": 5
}
