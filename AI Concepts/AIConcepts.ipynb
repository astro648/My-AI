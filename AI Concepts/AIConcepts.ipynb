{
 "cells": [
  {
   "cell_type": "code",
   "execution_count": 1,
   "id": "72f242f2-5db2-4e12-9a67-e82049e88817",
   "metadata": {},
   "outputs": [],
   "source": [
    "import numpy as np\n",
    "from sklearn import preprocessing"
   ]
  },
  {
   "cell_type": "code",
   "execution_count": 2,
   "id": "5276ac9e-e4e2-433d-9596-3dbf94c04718",
   "metadata": {},
   "outputs": [
    {
     "name": "stdout",
     "output_type": "stream",
     "text": [
      "[[1. 0. 1.]\n",
      " [0. 1. 0.]\n",
      " [1. 0. 0.]\n",
      " [1. 0. 0.]]\n"
     ]
    }
   ],
   "source": [
    "# Create a numpy array with 4 rows and 3 columns of input data\n",
    "input_data = np.array([[5.1,-2.9,3.3],[-1.2,7.8,-6.1],[3.9,0.4,2.1],[7.3,-9.9,-4.5]])\n",
    "\n",
    "# Binarize the input data by transforming the values greater than 2.1 to 1\n",
    "# and the rest to 0 using the Binarizer method of the preprocessing library\n",
    "data_binarized = preprocessing.Binarizer(threshold = 2.1).transform(input_data)\n",
    "\n",
    "print(data_binarized)"
   ]
  },
  {
   "cell_type": "code",
   "execution_count": 3,
   "id": "1a7c8e5c-d9df-4590-a75b-cbe41ba5c3c8",
   "metadata": {},
   "outputs": [
    {
     "name": "stdout",
     "output_type": "stream",
     "text": [
      "\n",
      "L1 normalized data:\n",
      " [[ 0.45132743 -0.25663717  0.2920354 ]\n",
      " [-0.0794702   0.51655629 -0.40397351]\n",
      " [ 0.609375    0.0625      0.328125  ]\n",
      " [ 0.33640553 -0.4562212  -0.20737327]]\n",
      "\n",
      "L2 normalized data:\n",
      " [[ 0.75765788 -0.43082507  0.49024922]\n",
      " [-0.12030718  0.78199664 -0.61156148]\n",
      " [ 0.87690281  0.08993875  0.47217844]\n",
      " [ 0.55734935 -0.75585734 -0.34357152]]\n"
     ]
    }
   ],
   "source": [
    "# L1 and L2 normalization are used to scale the features in a dataset to a common range, \n",
    "# which can help improve the performance of machine learning algorithms.\n",
    "\n",
    "data_normalized_l1 = preprocessing.normalize(input_data,norm='l1') # Normalize the input data using L1 normalization\n",
    "data_normalized_l2 = preprocessing.normalize(input_data,norm='l2') # Normalize the input data using L2 normalization\n",
    "print(\"\\nL1 normalized data:\\n\",data_normalized_l1) # Print the L1 normalized data\n",
    "print(\"\\nL2 normalized data:\\n\",data_normalized_l2) # Print the L2 normalized data"
   ]
  },
  {
   "cell_type": "code",
   "execution_count": null,
   "id": "3ec97d7b-cb81-4cce-9f6a-9d91a22cc43b",
   "metadata": {},
   "outputs": [],
   "source": []
  }
 ],
 "metadata": {
  "kernelspec": {
   "display_name": "Python 3 (ipykernel)",
   "language": "python",
   "name": "python3"
  },
  "language_info": {
   "codemirror_mode": {
    "name": "ipython",
    "version": 3
   },
   "file_extension": ".py",
   "mimetype": "text/x-python",
   "name": "python",
   "nbconvert_exporter": "python",
   "pygments_lexer": "ipython3",
   "version": "3.9.16"
  }
 },
 "nbformat": 4,
 "nbformat_minor": 5
}
