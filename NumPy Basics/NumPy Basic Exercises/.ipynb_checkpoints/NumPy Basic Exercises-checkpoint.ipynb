{
 "cells": [
  {
   "cell_type": "markdown",
   "id": "b8324369",
   "metadata": {},
   "source": [
    "#### 1. Import NumPy as np"
   ]
  },
  {
   "cell_type": "code",
   "execution_count": 1,
   "id": "26c1e847",
   "metadata": {},
   "outputs": [],
   "source": [
    "import numpy as np"
   ]
  },
  {
   "cell_type": "markdown",
   "id": "2774b109",
   "metadata": {},
   "source": [
    "#### 2. Create an array of 10 zeros"
   ]
  },
  {
   "cell_type": "code",
   "execution_count": 2,
   "id": "c8519209",
   "metadata": {},
   "outputs": [],
   "source": [
    "zerosarr = np.arange(0,10)\n",
    "zerosarr[0:] = 0"
   ]
  },
  {
   "cell_type": "code",
   "execution_count": 3,
   "id": "801515b5",
   "metadata": {},
   "outputs": [
    {
     "data": {
      "text/plain": [
       "array([0, 0, 0, 0, 0, 0, 0, 0, 0, 0])"
      ]
     },
     "execution_count": 3,
     "metadata": {},
     "output_type": "execute_result"
    }
   ],
   "source": [
    "zerosarr"
   ]
  },
  {
   "cell_type": "markdown",
   "id": "32df7cee",
   "metadata": {},
   "source": [
    "#### 3. Create an array of 10 ones"
   ]
  },
  {
   "cell_type": "code",
   "execution_count": 4,
   "id": "13b47a15",
   "metadata": {},
   "outputs": [],
   "source": [
    "onesarr = np.arange(0,10)\n",
    "onesarr[0:] = 1"
   ]
  },
  {
   "cell_type": "code",
   "execution_count": 5,
   "id": "1cf109aa",
   "metadata": {},
   "outputs": [
    {
     "data": {
      "text/plain": [
       "array([1, 1, 1, 1, 1, 1, 1, 1, 1, 1])"
      ]
     },
     "execution_count": 5,
     "metadata": {},
     "output_type": "execute_result"
    }
   ],
   "source": [
    "onesarr"
   ]
  },
  {
   "cell_type": "markdown",
   "id": "ed40d2eb",
   "metadata": {},
   "source": [
    "#### 4. Create an array of 10 fives"
   ]
  },
  {
   "cell_type": "code",
   "execution_count": 6,
   "id": "70d0408a",
   "metadata": {},
   "outputs": [],
   "source": [
    "fivesarr = np.arange(0,10)\n",
    "fivesarr[0:] = 5"
   ]
  },
  {
   "cell_type": "code",
   "execution_count": 7,
   "id": "59e593fa",
   "metadata": {},
   "outputs": [
    {
     "data": {
      "text/plain": [
       "array([5, 5, 5, 5, 5, 5, 5, 5, 5, 5])"
      ]
     },
     "execution_count": 7,
     "metadata": {},
     "output_type": "execute_result"
    }
   ],
   "source": [
    "fivesarr"
   ]
  },
  {
   "cell_type": "markdown",
   "id": "59bcb1a5",
   "metadata": {},
   "source": [
    "#### 5. Create an array of the integers from 10 to 50"
   ]
  },
  {
   "cell_type": "code",
   "execution_count": 8,
   "id": "a9514890",
   "metadata": {},
   "outputs": [],
   "source": [
    "tentofiftyarrbase = np.arange(0,41)\n",
    "tentofiftyarr = tentofiftyarrbase + 10"
   ]
  },
  {
   "cell_type": "code",
   "execution_count": 9,
   "id": "69e43baa",
   "metadata": {},
   "outputs": [
    {
     "data": {
      "text/plain": [
       "array([10, 11, 12, 13, 14, 15, 16, 17, 18, 19, 20, 21, 22, 23, 24, 25, 26,\n",
       "       27, 28, 29, 30, 31, 32, 33, 34, 35, 36, 37, 38, 39, 40, 41, 42, 43,\n",
       "       44, 45, 46, 47, 48, 49, 50])"
      ]
     },
     "execution_count": 9,
     "metadata": {},
     "output_type": "execute_result"
    }
   ],
   "source": [
    "tentofiftyarr"
   ]
  },
  {
   "cell_type": "markdown",
   "id": "297554c2",
   "metadata": {},
   "source": [
    "#### 6. Create an array of all the even integers from 10 to 50"
   ]
  },
  {
   "cell_type": "code",
   "execution_count": 10,
   "id": "22b86286",
   "metadata": {},
   "outputs": [],
   "source": [
    "modtentofiftyarr = tentofiftyarr % 2\n",
    "boolmodtentofiftyarr = modtentofiftyarr <= 0"
   ]
  },
  {
   "cell_type": "code",
   "execution_count": 11,
   "id": "8c3218e4",
   "metadata": {},
   "outputs": [
    {
     "data": {
      "text/plain": [
       "array([10, 12, 14, 16, 18, 20, 22, 24, 26, 28, 30, 32, 34, 36, 38, 40, 42,\n",
       "       44, 46, 48, 50])"
      ]
     },
     "execution_count": 11,
     "metadata": {},
     "output_type": "execute_result"
    }
   ],
   "source": [
    "tentofiftyarr[boolmodtentofiftyarr]"
   ]
  },
  {
   "cell_type": "markdown",
   "id": "ca6d24ef",
   "metadata": {},
   "source": [
    "#### 7. Create a 3x3 matrix with values ranging from 0 to 8."
   ]
  },
  {
   "cell_type": "code",
   "execution_count": 12,
   "id": "909707d7",
   "metadata": {},
   "outputs": [
    {
     "data": {
      "text/plain": [
       "array([[0, 1, 2],\n",
       "       [3, 4, 5],\n",
       "       [6, 7, 8]])"
      ]
     },
     "execution_count": 12,
     "metadata": {},
     "output_type": "execute_result"
    }
   ],
   "source": [
    "np.array([[0,1,2],[3,4,5],[6,7,8]])"
   ]
  },
  {
   "cell_type": "markdown",
   "id": "02f6f0dc",
   "metadata": {},
   "source": [
    "#### 8. Create a 3x3 identity matrix"
   ]
  },
  {
   "cell_type": "code",
   "execution_count": 13,
   "id": "5875ce40",
   "metadata": {},
   "outputs": [
    {
     "data": {
      "text/plain": [
       "array([[1., 0., 0.],\n",
       "       [0., 1., 0.],\n",
       "       [0., 0., 1.]])"
      ]
     },
     "execution_count": 13,
     "metadata": {},
     "output_type": "execute_result"
    }
   ],
   "source": [
    "np.identity(3)"
   ]
  },
  {
   "cell_type": "markdown",
   "id": "557c032e",
   "metadata": {},
   "source": [
    "#### 9. Use NumPy to generate a random number between 0 and 1"
   ]
  },
  {
   "cell_type": "code",
   "execution_count": 14,
   "id": "564328b0",
   "metadata": {},
   "outputs": [
    {
     "data": {
      "text/plain": [
       "array([0.5351841])"
      ]
     },
     "execution_count": 14,
     "metadata": {},
     "output_type": "execute_result"
    }
   ],
   "source": [
    "np.random.normal(0,1,1)"
   ]
  },
  {
   "cell_type": "markdown",
   "id": "b4499143",
   "metadata": {},
   "source": [
    "#### 10. Use NumPy to genereate an array of 25 random numbers sampled from a standard normal distribution"
   ]
  },
  {
   "cell_type": "code",
   "execution_count": 15,
   "id": "e3667c67",
   "metadata": {},
   "outputs": [
    {
     "data": {
      "text/plain": [
       "array([ 0.74062747,  0.41856476,  0.82542864,  0.64181335,  1.18030322,\n",
       "       -0.85360187, -0.00643671, -1.01373811, -0.44030866, -0.79608233,\n",
       "        2.02469474,  0.69163231,  1.41572758, -0.67293493,  0.77804331,\n",
       "       -0.70077238,  1.75361381,  1.09484126,  1.92110751,  0.52008537,\n",
       "        0.57888975,  2.0740722 ,  0.22436997, -0.35389006,  0.63210682])"
      ]
     },
     "execution_count": 15,
     "metadata": {},
     "output_type": "execute_result"
    }
   ],
   "source": [
    "np.random.normal(0,1,25)"
   ]
  },
  {
   "cell_type": "markdown",
   "id": "6bbf5532",
   "metadata": {},
   "source": [
    "#### 11. Create a 10x10 matrix that goes from 0.01 to 1"
   ]
  },
  {
   "cell_type": "code",
   "execution_count": 16,
   "id": "6d0bd6e0",
   "metadata": {},
   "outputs": [
    {
     "data": {
      "text/plain": [
       "array([0.01, 0.02, 0.03, 0.04, 0.05, 0.06, 0.07, 0.08, 0.09, 0.1 , 0.11,\n",
       "       0.12, 0.13, 0.14, 0.15, 0.16, 0.17, 0.18, 0.19, 0.2 , 0.21, 0.22,\n",
       "       0.23, 0.24, 0.25, 0.26, 0.27, 0.28, 0.29, 0.3 , 0.31, 0.32, 0.33,\n",
       "       0.34, 0.35, 0.36, 0.37, 0.38, 0.39, 0.4 , 0.41, 0.42, 0.43, 0.44,\n",
       "       0.45, 0.46, 0.47, 0.48, 0.49, 0.5 , 0.51, 0.52, 0.53, 0.54, 0.55,\n",
       "       0.56, 0.57, 0.58, 0.59, 0.6 , 0.61, 0.62, 0.63, 0.64, 0.65, 0.66,\n",
       "       0.67, 0.68, 0.69, 0.7 , 0.71, 0.72, 0.73, 0.74, 0.75, 0.76, 0.77,\n",
       "       0.78, 0.79, 0.8 , 0.81, 0.82, 0.83, 0.84, 0.85, 0.86, 0.87, 0.88,\n",
       "       0.89, 0.9 , 0.91, 0.92, 0.93, 0.94, 0.95, 0.96, 0.97, 0.98, 0.99,\n",
       "       1.  ])"
      ]
     },
     "execution_count": 16,
     "metadata": {},
     "output_type": "execute_result"
    }
   ],
   "source": [
    "np.arange(1,101)/100"
   ]
  },
  {
   "cell_type": "markdown",
   "id": "0ddcd950",
   "metadata": {},
   "source": [
    "#### 12. Create an array of 20 linearly-spaced points between 0 to 1."
   ]
  },
  {
   "cell_type": "code",
   "execution_count": 17,
   "id": "fee47493",
   "metadata": {},
   "outputs": [
    {
     "data": {
      "text/plain": [
       "array([0.05, 0.1 , 0.15, 0.2 , 0.25, 0.3 , 0.35, 0.4 , 0.45, 0.5 , 0.55,\n",
       "       0.6 , 0.65, 0.7 , 0.75, 0.8 , 0.85, 0.9 , 0.95, 1.  ])"
      ]
     },
     "execution_count": 17,
     "metadata": {},
     "output_type": "execute_result"
    }
   ],
   "source": [
    "np.arange(1,21)/20"
   ]
  },
  {
   "cell_type": "markdown",
   "id": "767451b4",
   "metadata": {},
   "source": [
    "# NumPy Indexing and Selection"
   ]
  },
  {
   "cell_type": "markdown",
   "id": "2c878eff",
   "metadata": {},
   "source": [
    "Now you will be given a starting matrix and asked to replicate the matrix based on the image. You can see the image in the \"All Exercises\" subdirectory at `My-AI/NumPy Basics/NumPy Basic Exercises/All Exercises/Task 12-13`"
   ]
  },
  {
   "cell_type": "markdown",
   "id": "781bef24",
   "metadata": {},
   "source": [
    "#### Run this code, this is our starting matrix."
   ]
  },
  {
   "cell_type": "code",
   "execution_count": 18,
   "id": "e2a54606",
   "metadata": {},
   "outputs": [
    {
     "data": {
      "text/plain": [
       "array([[ 1,  2,  3,  4,  5],\n",
       "       [ 6,  7,  8,  9, 10],\n",
       "       [11, 12, 13, 14, 15],\n",
       "       [16, 17, 18, 19, 20],\n",
       "       [21, 22, 23, 24, 25]])"
      ]
     },
     "execution_count": 18,
     "metadata": {},
     "output_type": "execute_result"
    }
   ],
   "source": [
    "mat = np.arange(1,26).reshape(5,5)\n",
    "mat"
   ]
  },
  {
   "cell_type": "markdown",
   "id": "c0887676",
   "metadata": {},
   "source": [
    "#### 13. Write code to replicate the output shown in the exercise photo."
   ]
  },
  {
   "cell_type": "code",
   "execution_count": 19,
   "id": "c88a51f3",
   "metadata": {},
   "outputs": [
    {
     "data": {
      "text/plain": [
       "array([[12, 13, 14, 15],\n",
       "       [17, 18, 19, 20],\n",
       "       [22, 23, 24, 25]])"
      ]
     },
     "execution_count": 19,
     "metadata": {},
     "output_type": "execute_result"
    }
   ],
   "source": [
    "mat[2:,1:]"
   ]
  },
  {
   "cell_type": "markdown",
   "id": "1d6cb63b",
   "metadata": {},
   "source": [
    "#### 14. Write code to replicate the output shown in the exercise photo."
   ]
  },
  {
   "cell_type": "code",
   "execution_count": 20,
   "id": "bd36a9d6",
   "metadata": {},
   "outputs": [
    {
     "data": {
      "text/plain": [
       "20"
      ]
     },
     "execution_count": 20,
     "metadata": {},
     "output_type": "execute_result"
    }
   ],
   "source": [
    "mat[3,4]"
   ]
  },
  {
   "cell_type": "markdown",
   "id": "16ab22e4",
   "metadata": {},
   "source": [
    "#### 15. Write code to replicate the output shown in the exercise photo."
   ]
  },
  {
   "cell_type": "code",
   "execution_count": 21,
   "id": "265d5467",
   "metadata": {},
   "outputs": [
    {
     "name": "stdout",
     "output_type": "stream",
     "text": [
      "2\n",
      "7\n",
      "12\n"
     ]
    }
   ],
   "source": [
    "print(mat[0,1])\n",
    "print(mat[1,1])\n",
    "print(mat[2,1])"
   ]
  },
  {
   "cell_type": "markdown",
   "id": "b4266b4e",
   "metadata": {},
   "source": [
    "#### 16. Write code to replicate the output shown in the exercise photo."
   ]
  },
  {
   "cell_type": "code",
   "execution_count": 22,
   "id": "52525367",
   "metadata": {},
   "outputs": [
    {
     "data": {
      "text/plain": [
       "array([21, 22, 23, 24, 25])"
      ]
     },
     "execution_count": 22,
     "metadata": {},
     "output_type": "execute_result"
    }
   ],
   "source": [
    "mat[4]"
   ]
  },
  {
   "cell_type": "markdown",
   "id": "4e6b3292",
   "metadata": {},
   "source": [
    "#### 17. Write code to replicate the output shown in the exercise photo."
   ]
  },
  {
   "cell_type": "code",
   "execution_count": 23,
   "id": "5883f8ed",
   "metadata": {},
   "outputs": [
    {
     "name": "stdout",
     "output_type": "stream",
     "text": [
      "[16 17 18 19 20]\n",
      "[21 22 23 24 25]\n"
     ]
    }
   ],
   "source": [
    "print(mat[3])\n",
    "print(mat[4])"
   ]
  },
  {
   "cell_type": "markdown",
   "id": "1ff45889",
   "metadata": {},
   "source": [
    "# NumPy Operations"
   ]
  },
  {
   "cell_type": "markdown",
   "id": "d07e8868",
   "metadata": {},
   "source": [
    "#### 18. Get the sum of all values in mat"
   ]
  },
  {
   "cell_type": "code",
   "execution_count": 24,
   "id": "432cb775",
   "metadata": {},
   "outputs": [
    {
     "data": {
      "text/plain": [
       "325"
      ]
     },
     "execution_count": 24,
     "metadata": {},
     "output_type": "execute_result"
    }
   ],
   "source": [
    "np.sum(mat)"
   ]
  },
  {
   "cell_type": "markdown",
   "id": "cf5650b1",
   "metadata": {},
   "source": [
    "#### 19. Get the standard deviation of all values in mat"
   ]
  },
  {
   "cell_type": "code",
   "execution_count": 25,
   "id": "81b59df9",
   "metadata": {},
   "outputs": [
    {
     "data": {
      "text/plain": [
       "7.211102550927978"
      ]
     },
     "execution_count": 25,
     "metadata": {},
     "output_type": "execute_result"
    }
   ],
   "source": [
    "np.std(mat)"
   ]
  },
  {
   "cell_type": "markdown",
   "id": "f71f4963",
   "metadata": {},
   "source": [
    "#### 20. Get the sum of all columns in mat"
   ]
  },
  {
   "cell_type": "code",
   "execution_count": 26,
   "id": "5355879a",
   "metadata": {},
   "outputs": [
    {
     "name": "stdout",
     "output_type": "stream",
     "text": [
      "55\n",
      "60\n",
      "65\n",
      "70\n",
      "75\n"
     ]
    }
   ],
   "source": [
    "print(np.sum(mat[0:,0]))\n",
    "print(np.sum(mat[0:,1]))\n",
    "print(np.sum(mat[0:,2]))\n",
    "print(np.sum(mat[0:,3]))\n",
    "print(np.sum(mat[0:,4]))"
   ]
  },
  {
   "cell_type": "code",
   "execution_count": null,
   "id": "864403b3",
   "metadata": {},
   "outputs": [],
   "source": []
  }
 ],
 "metadata": {
  "kernelspec": {
   "display_name": "Python 3 (ipykernel)",
   "language": "python",
   "name": "python3"
  },
  "language_info": {
   "codemirror_mode": {
    "name": "ipython",
    "version": 3
   },
   "file_extension": ".py",
   "mimetype": "text/x-python",
   "name": "python",
   "nbconvert_exporter": "python",
   "pygments_lexer": "ipython3",
   "version": "3.10.6"
  }
 },
 "nbformat": 4,
 "nbformat_minor": 5
}
