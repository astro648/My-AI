{
 "cells": [
  {
   "cell_type": "code",
   "execution_count": 1,
   "id": "5a3ac36b",
   "metadata": {},
   "outputs": [],
   "source": [
    "# 1. Import NumPy as np"
   ]
  },
  {
   "cell_type": "code",
   "execution_count": 2,
   "id": "26c1e847",
   "metadata": {},
   "outputs": [],
   "source": [
    "import numpy as np"
   ]
  },
  {
   "cell_type": "code",
   "execution_count": 3,
   "id": "2a132175",
   "metadata": {},
   "outputs": [],
   "source": [
    "# 2. Create an array of 10 zeros"
   ]
  },
  {
   "cell_type": "code",
   "execution_count": 4,
   "id": "c8519209",
   "metadata": {},
   "outputs": [],
   "source": [
    "zerosarr = np.arange(0,10)\n",
    "zerosarr[0:] = 0"
   ]
  },
  {
   "cell_type": "code",
   "execution_count": 5,
   "id": "801515b5",
   "metadata": {},
   "outputs": [
    {
     "data": {
      "text/plain": [
       "array([0, 0, 0, 0, 0, 0, 0, 0, 0, 0])"
      ]
     },
     "execution_count": 5,
     "metadata": {},
     "output_type": "execute_result"
    }
   ],
   "source": [
    "zerosarr"
   ]
  },
  {
   "cell_type": "code",
   "execution_count": 6,
   "id": "88fc5054",
   "metadata": {},
   "outputs": [],
   "source": [
    "# 3. Create an array of 10 ones"
   ]
  },
  {
   "cell_type": "code",
   "execution_count": 7,
   "id": "13b47a15",
   "metadata": {},
   "outputs": [],
   "source": [
    "onesarr = np.arange(0,10)\n",
    "onesarr[0:] = 0"
   ]
  },
  {
   "cell_type": "code",
   "execution_count": 8,
   "id": "1cf109aa",
   "metadata": {},
   "outputs": [
    {
     "data": {
      "text/plain": [
       "array([0, 0, 0, 0, 0, 0, 0, 0, 0, 0])"
      ]
     },
     "execution_count": 8,
     "metadata": {},
     "output_type": "execute_result"
    }
   ],
   "source": [
    "onesarr"
   ]
  },
  {
   "cell_type": "code",
   "execution_count": 9,
   "id": "c3a851cd",
   "metadata": {},
   "outputs": [],
   "source": [
    "# 4. Create an array of 10 fives"
   ]
  },
  {
   "cell_type": "code",
   "execution_count": 10,
   "id": "70d0408a",
   "metadata": {},
   "outputs": [],
   "source": [
    "fivesarr = np.arange(0,10)\n",
    "fivesarr[0:] = 5"
   ]
  },
  {
   "cell_type": "code",
   "execution_count": 11,
   "id": "59e593fa",
   "metadata": {},
   "outputs": [
    {
     "data": {
      "text/plain": [
       "array([5, 5, 5, 5, 5, 5, 5, 5, 5, 5])"
      ]
     },
     "execution_count": 11,
     "metadata": {},
     "output_type": "execute_result"
    }
   ],
   "source": [
    "fivesarr"
   ]
  },
  {
   "cell_type": "code",
   "execution_count": 12,
   "id": "c6505c36",
   "metadata": {},
   "outputs": [],
   "source": [
    "# 5. Create an array of the integers from 10 to 50"
   ]
  },
  {
   "cell_type": "code",
   "execution_count": 13,
   "id": "a9514890",
   "metadata": {},
   "outputs": [],
   "source": [
    "tentofiftyarrbase = np.arange(0,41)\n",
    "tentofiftyarr = tentofiftyarrbase + 10"
   ]
  },
  {
   "cell_type": "code",
   "execution_count": 14,
   "id": "69e43baa",
   "metadata": {},
   "outputs": [
    {
     "data": {
      "text/plain": [
       "array([10, 11, 12, 13, 14, 15, 16, 17, 18, 19, 20, 21, 22, 23, 24, 25, 26,\n",
       "       27, 28, 29, 30, 31, 32, 33, 34, 35, 36, 37, 38, 39, 40, 41, 42, 43,\n",
       "       44, 45, 46, 47, 48, 49, 50])"
      ]
     },
     "execution_count": 14,
     "metadata": {},
     "output_type": "execute_result"
    }
   ],
   "source": [
    "tentofiftyarr"
   ]
  },
  {
   "cell_type": "code",
   "execution_count": 15,
   "id": "731500d5",
   "metadata": {},
   "outputs": [],
   "source": [
    "# 6. Create an array of all the even integers from 10 to 50"
   ]
  },
  {
   "cell_type": "code",
   "execution_count": 16,
   "id": "22b86286",
   "metadata": {},
   "outputs": [],
   "source": [
    "modtentofiftyarr = tentofiftyarr % 2\n",
    "boolmodtentofiftyarr = modtentofiftyarr <= 0"
   ]
  },
  {
   "cell_type": "code",
   "execution_count": 17,
   "id": "8c3218e4",
   "metadata": {},
   "outputs": [
    {
     "data": {
      "text/plain": [
       "array([10, 12, 14, 16, 18, 20, 22, 24, 26, 28, 30, 32, 34, 36, 38, 40, 42,\n",
       "       44, 46, 48, 50])"
      ]
     },
     "execution_count": 17,
     "metadata": {},
     "output_type": "execute_result"
    }
   ],
   "source": [
    "tentofiftyarr[boolmodtentofiftyarr]"
   ]
  },
  {
   "cell_type": "code",
   "execution_count": 18,
   "id": "27ac8d2a",
   "metadata": {},
   "outputs": [],
   "source": [
    "# 7. Create a 3x3 matrix with values ranging from 0 to 8."
   ]
  },
  {
   "cell_type": "code",
   "execution_count": 19,
   "id": "909707d7",
   "metadata": {},
   "outputs": [],
   "source": [
    "zerotoeightmatrix = np.array([[0,1,2],[3,4,5],[6,7,8]])"
   ]
  },
  {
   "cell_type": "code",
   "execution_count": 20,
   "id": "c3fdcc87",
   "metadata": {},
   "outputs": [
    {
     "data": {
      "text/plain": [
       "array([[0, 1, 2],\n",
       "       [3, 4, 5],\n",
       "       [6, 7, 8]])"
      ]
     },
     "execution_count": 20,
     "metadata": {},
     "output_type": "execute_result"
    }
   ],
   "source": [
    "zerotoeightmatrix"
   ]
  },
  {
   "cell_type": "code",
   "execution_count": 21,
   "id": "ad5c34ef",
   "metadata": {},
   "outputs": [],
   "source": [
    "# 8. Create a 3x3 identity matrix"
   ]
  },
  {
   "cell_type": "code",
   "execution_count": 22,
   "id": "3e1cc6bf",
   "metadata": {},
   "outputs": [],
   "source": [
    "identitymatrix = np.identity(3)"
   ]
  },
  {
   "cell_type": "code",
   "execution_count": 23,
   "id": "d6b2de03",
   "metadata": {},
   "outputs": [
    {
     "data": {
      "text/plain": [
       "array([[1., 0., 0.],\n",
       "       [0., 1., 0.],\n",
       "       [0., 0., 1.]])"
      ]
     },
     "execution_count": 23,
     "metadata": {},
     "output_type": "execute_result"
    }
   ],
   "source": [
    "identitymatrix"
   ]
  },
  {
   "cell_type": "code",
   "execution_count": 24,
   "id": "b5bfcd43",
   "metadata": {},
   "outputs": [],
   "source": [
    "# 9. Use NumPy to generate a random number between 0 and 1"
   ]
  },
  {
   "cell_type": "code",
   "execution_count": 25,
   "id": "d659ea0c",
   "metadata": {},
   "outputs": [],
   "source": [
    "randnumzerotoone = np.random.normal(0,1,1)"
   ]
  },
  {
   "cell_type": "code",
   "execution_count": 26,
   "id": "48eb0fbf",
   "metadata": {},
   "outputs": [
    {
     "data": {
      "text/plain": [
       "array([-0.26935177])"
      ]
     },
     "execution_count": 26,
     "metadata": {},
     "output_type": "execute_result"
    }
   ],
   "source": [
    "randnumzerotoone"
   ]
  },
  {
   "cell_type": "code",
   "execution_count": null,
   "id": "f6d590dd",
   "metadata": {},
   "outputs": [],
   "source": []
  }
 ],
 "metadata": {
  "kernelspec": {
   "display_name": "Python 3 (ipykernel)",
   "language": "python",
   "name": "python3"
  },
  "language_info": {
   "codemirror_mode": {
    "name": "ipython",
    "version": 3
   },
   "file_extension": ".py",
   "mimetype": "text/x-python",
   "name": "python",
   "nbconvert_exporter": "python",
   "pygments_lexer": "ipython3",
   "version": "3.10.4"
  }
 },
 "nbformat": 4,
 "nbformat_minor": 5
}
