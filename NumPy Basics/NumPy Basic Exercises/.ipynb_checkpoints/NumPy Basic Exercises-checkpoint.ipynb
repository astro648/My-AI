{
 "cells": [
  {
   "cell_type": "markdown",
   "id": "b8324369",
   "metadata": {},
   "source": [
    "#### 1. Import NumPy as np"
   ]
  },
  {
   "cell_type": "code",
   "execution_count": null,
   "id": "26c1e847",
   "metadata": {},
   "outputs": [],
   "source": [
    "import numpy as np"
   ]
  },
  {
   "cell_type": "markdown",
   "id": "2774b109",
   "metadata": {},
   "source": [
    "#### 2. Create an array of 10 zeros"
   ]
  },
  {
   "cell_type": "code",
   "execution_count": null,
   "id": "c8519209",
   "metadata": {},
   "outputs": [],
   "source": [
    "zerosarr = np.arange(0,10)\n",
    "zerosarr[0:] = 0"
   ]
  },
  {
   "cell_type": "code",
   "execution_count": null,
   "id": "801515b5",
   "metadata": {},
   "outputs": [],
   "source": [
    "zerosarr"
   ]
  },
  {
   "cell_type": "markdown",
   "id": "32df7cee",
   "metadata": {},
   "source": [
    "#### 3. Create an array of 10 ones"
   ]
  },
  {
   "cell_type": "code",
   "execution_count": null,
   "id": "13b47a15",
   "metadata": {},
   "outputs": [],
   "source": [
    "onesarr = np.arange(0,10)\n",
    "onesarr[0:] = 1"
   ]
  },
  {
   "cell_type": "code",
   "execution_count": null,
   "id": "1cf109aa",
   "metadata": {},
   "outputs": [],
   "source": [
    "onesarr"
   ]
  },
  {
   "cell_type": "markdown",
   "id": "ed40d2eb",
   "metadata": {},
   "source": [
    "#### 4. Create an array of 10 fives"
   ]
  },
  {
   "cell_type": "code",
   "execution_count": null,
   "id": "70d0408a",
   "metadata": {},
   "outputs": [],
   "source": [
    "fivesarr = np.arange(0,10)\n",
    "fivesarr[0:] = 5"
   ]
  },
  {
   "cell_type": "code",
   "execution_count": null,
   "id": "59e593fa",
   "metadata": {},
   "outputs": [],
   "source": [
    "fivesarr"
   ]
  },
  {
   "cell_type": "markdown",
   "id": "59bcb1a5",
   "metadata": {},
   "source": [
    "#### 5. Create an array of the integers from 10 to 50"
   ]
  },
  {
   "cell_type": "code",
   "execution_count": null,
   "id": "a9514890",
   "metadata": {},
   "outputs": [],
   "source": [
    "tentofiftyarrbase = np.arange(0,41)\n",
    "tentofiftyarr = tentofiftyarrbase + 10"
   ]
  },
  {
   "cell_type": "code",
   "execution_count": null,
   "id": "69e43baa",
   "metadata": {},
   "outputs": [],
   "source": [
    "tentofiftyarr"
   ]
  },
  {
   "cell_type": "markdown",
   "id": "297554c2",
   "metadata": {},
   "source": [
    "#### 6. Create an array of all the even integers from 10 to 50"
   ]
  },
  {
   "cell_type": "code",
   "execution_count": null,
   "id": "22b86286",
   "metadata": {},
   "outputs": [],
   "source": [
    "modtentofiftyarr = tentofiftyarr % 2\n",
    "boolmodtentofiftyarr = modtentofiftyarr <= 0"
   ]
  },
  {
   "cell_type": "code",
   "execution_count": null,
   "id": "8c3218e4",
   "metadata": {},
   "outputs": [],
   "source": [
    "tentofiftyarr[boolmodtentofiftyarr]"
   ]
  },
  {
   "cell_type": "markdown",
   "id": "ca6d24ef",
   "metadata": {},
   "source": [
    "#### 7. Create a 3x3 matrix with values ranging from 0 to 8."
   ]
  },
  {
   "cell_type": "code",
   "execution_count": null,
   "id": "909707d7",
   "metadata": {},
   "outputs": [],
   "source": [
    "np.array([[0,1,2],[3,4,5],[6,7,8]])"
   ]
  },
  {
   "cell_type": "markdown",
   "id": "02f6f0dc",
   "metadata": {},
   "source": [
    "#### 8. Create a 3x3 identity matrix"
   ]
  },
  {
   "cell_type": "code",
   "execution_count": null,
   "id": "5875ce40",
   "metadata": {},
   "outputs": [],
   "source": [
    "np.identity(3)"
   ]
  },
  {
   "cell_type": "markdown",
   "id": "557c032e",
   "metadata": {},
   "source": [
    "#### 9. Use NumPy to generate a random number between 0 and 1"
   ]
  },
  {
   "cell_type": "code",
   "execution_count": null,
   "id": "564328b0",
   "metadata": {},
   "outputs": [],
   "source": [
    "np.random.normal(0,1,1)"
   ]
  },
  {
   "cell_type": "markdown",
   "id": "b4499143",
   "metadata": {},
   "source": [
    "#### 10. Use NumPy to genereate an array of 25 random numbers sampled from a standard normal distribution"
   ]
  },
  {
   "cell_type": "code",
   "execution_count": null,
   "id": "e3667c67",
   "metadata": {},
   "outputs": [],
   "source": [
    "np.random.normal(0,1,25)"
   ]
  },
  {
   "cell_type": "markdown",
   "id": "6bbf5532",
   "metadata": {},
   "source": [
    "#### 11. Create a 10x10 matrix that goes from 0.01 to 1"
   ]
  },
  {
   "cell_type": "code",
   "execution_count": null,
   "id": "6d0bd6e0",
   "metadata": {},
   "outputs": [],
   "source": [
    "np.arange(1,101)/100"
   ]
  },
  {
   "cell_type": "markdown",
   "id": "0ddcd950",
   "metadata": {},
   "source": [
    "#### 12. Create an array of 20 linearly-spaced points between 0 to 1."
   ]
  },
  {
   "cell_type": "code",
   "execution_count": null,
   "id": "fee47493",
   "metadata": {},
   "outputs": [],
   "source": [
    "np.arange(1,21)/20"
   ]
  },
  {
   "cell_type": "markdown",
   "id": "767451b4",
   "metadata": {},
   "source": [
    "# NumPy Indexing and Selection"
   ]
  },
  {
   "cell_type": "markdown",
   "id": "2c878eff",
   "metadata": {},
   "source": [
    "Now you will be given a starting matrix and asked to replicate the matrix based on the image. You can see the image in the \"All Exercises\" subdirectory at `My-AI/NumPy Basics/NumPy Basic Exercises/All Exercises/Task 12-13`"
   ]
  },
  {
   "cell_type": "markdown",
   "id": "781bef24",
   "metadata": {},
   "source": [
    "#### Run this code, this is our starting matrix."
   ]
  },
  {
   "cell_type": "code",
   "execution_count": null,
   "id": "e2a54606",
   "metadata": {},
   "outputs": [],
   "source": [
    "mat = np.arange(1,26).reshape(5,5)\n",
    "mat"
   ]
  },
  {
   "cell_type": "markdown",
   "id": "c0887676",
   "metadata": {},
   "source": [
    "#### 13. Write code to replicate the output shown in the exercise photo."
   ]
  },
  {
   "cell_type": "code",
   "execution_count": null,
   "id": "c88a51f3",
   "metadata": {},
   "outputs": [],
   "source": [
    "mat[2:,1:]"
   ]
  },
  {
   "cell_type": "markdown",
   "id": "1d6cb63b",
   "metadata": {},
   "source": [
    "#### 14. Write code to replicate the output shown in the exercise photo."
   ]
  },
  {
   "cell_type": "code",
   "execution_count": null,
   "id": "bd36a9d6",
   "metadata": {},
   "outputs": [],
   "source": [
    "mat[3,4]"
   ]
  },
  {
   "cell_type": "markdown",
   "id": "16ab22e4",
   "metadata": {},
   "source": [
    "#### 15. Write code to replicate the output shown in the exercise photo."
   ]
  },
  {
   "cell_type": "code",
   "execution_count": null,
   "id": "265d5467",
   "metadata": {},
   "outputs": [],
   "source": [
    "print(mat[0,1])\n",
    "print(mat[1,1])\n",
    "print(mat[2,1])"
   ]
  },
  {
   "cell_type": "markdown",
   "id": "b4266b4e",
   "metadata": {},
   "source": [
    "#### 16. Write code to replicate the output shown in the exercise photo."
   ]
  },
  {
   "cell_type": "code",
   "execution_count": null,
   "id": "52525367",
   "metadata": {},
   "outputs": [],
   "source": [
    "mat[4]"
   ]
  },
  {
   "cell_type": "markdown",
   "id": "4e6b3292",
   "metadata": {},
   "source": [
    "#### 17. Write code to replicate the output shown in the exercise photo."
   ]
  },
  {
   "cell_type": "code",
   "execution_count": null,
   "id": "5883f8ed",
   "metadata": {},
   "outputs": [],
   "source": [
    "print(mat[3])\n",
    "print(mat[4])"
   ]
  },
  {
   "cell_type": "markdown",
   "id": "1ff45889",
   "metadata": {},
   "source": [
    "# NumPy Operations"
   ]
  },
  {
   "cell_type": "markdown",
   "id": "d07e8868",
   "metadata": {},
   "source": [
    "#### 18. Get the sum of all values in mat"
   ]
  },
  {
   "cell_type": "code",
   "execution_count": null,
   "id": "432cb775",
   "metadata": {},
   "outputs": [],
   "source": [
    "np.sum(mat)"
   ]
  },
  {
   "cell_type": "markdown",
   "id": "cf5650b1",
   "metadata": {},
   "source": [
    "#### 19. Get the standard deviation of all values in mat"
   ]
  },
  {
   "cell_type": "code",
   "execution_count": null,
   "id": "81b59df9",
   "metadata": {},
   "outputs": [],
   "source": [
    "np.std(mat)"
   ]
  },
  {
   "cell_type": "markdown",
   "id": "f71f4963",
   "metadata": {},
   "source": [
    "#### 20. Get the sum of all columns in mat"
   ]
  },
  {
   "cell_type": "code",
   "execution_count": null,
   "id": "5355879a",
   "metadata": {},
   "outputs": [],
   "source": [
    "print(np.sum(mat[0:,0]))\n",
    "print(np.sum(mat[0:,1]))\n",
    "print(np.sum(mat[0:,2]))\n",
    "print(np.sum(mat[0:,3]))\n",
    "print(np.sum(mat[0:,4]))"
   ]
  },
  {
   "cell_type": "code",
   "execution_count": null,
   "id": "864403b3",
   "metadata": {},
   "outputs": [],
   "source": []
  }
 ],
 "metadata": {
  "kernelspec": {
   "display_name": "Python 3 (ipykernel)",
   "language": "python",
   "name": "python3"
  },
  "language_info": {
   "codemirror_mode": {
    "name": "ipython",
    "version": 3
   },
   "file_extension": ".py",
   "mimetype": "text/x-python",
   "name": "python",
   "nbconvert_exporter": "python",
   "pygments_lexer": "ipython3",
   "version": "3.10.6"
  }
 },
 "nbformat": 4,
 "nbformat_minor": 5
}
