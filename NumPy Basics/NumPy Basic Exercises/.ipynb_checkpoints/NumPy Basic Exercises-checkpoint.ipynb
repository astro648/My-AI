{
 "cells": [
  {
   "cell_type": "code",
   "execution_count": 1,
   "id": "5a3ac36b",
   "metadata": {},
   "outputs": [],
   "source": [
    "# 1. Import NumPy as np"
   ]
  },
  {
   "cell_type": "code",
   "execution_count": 2,
   "id": "26c1e847",
   "metadata": {},
   "outputs": [],
   "source": [
    "import numpy as np"
   ]
  },
  {
   "cell_type": "code",
   "execution_count": 3,
   "id": "2a132175",
   "metadata": {},
   "outputs": [],
   "source": [
    "# 2. Create an array of 10 zeros"
   ]
  },
  {
   "cell_type": "code",
   "execution_count": 4,
   "id": "c8519209",
   "metadata": {},
   "outputs": [],
   "source": [
    "zerosarr = np.arange(0,10)\n",
    "zerosarr[0:] = 0"
   ]
  },
  {
   "cell_type": "code",
   "execution_count": 5,
   "id": "801515b5",
   "metadata": {},
   "outputs": [
    {
     "data": {
      "text/plain": [
       "array([0, 0, 0, 0, 0, 0, 0, 0, 0, 0])"
      ]
     },
     "execution_count": 5,
     "metadata": {},
     "output_type": "execute_result"
    }
   ],
   "source": [
    "zerosarr"
   ]
  },
  {
   "cell_type": "code",
   "execution_count": 6,
   "id": "88fc5054",
   "metadata": {},
   "outputs": [],
   "source": [
    "# 3. Create an array of 10 ones"
   ]
  },
  {
   "cell_type": "code",
   "execution_count": 7,
   "id": "13b47a15",
   "metadata": {},
   "outputs": [],
   "source": [
    "onesarr = np.arange(0,10)\n",
    "onesarr[0:] = 0"
   ]
  },
  {
   "cell_type": "code",
   "execution_count": 8,
   "id": "1cf109aa",
   "metadata": {},
   "outputs": [
    {
     "data": {
      "text/plain": [
       "array([0, 0, 0, 0, 0, 0, 0, 0, 0, 0])"
      ]
     },
     "execution_count": 8,
     "metadata": {},
     "output_type": "execute_result"
    }
   ],
   "source": [
    "onesarr"
   ]
  },
  {
   "cell_type": "code",
   "execution_count": 9,
   "id": "c3a851cd",
   "metadata": {},
   "outputs": [],
   "source": [
    "# 4. Create an array of 10 fives"
   ]
  },
  {
   "cell_type": "code",
   "execution_count": 10,
   "id": "70d0408a",
   "metadata": {},
   "outputs": [],
   "source": [
    "fivesarr = np.arange(0,10)\n",
    "fivesarr[0:] = 5"
   ]
  },
  {
   "cell_type": "code",
   "execution_count": 11,
   "id": "59e593fa",
   "metadata": {},
   "outputs": [
    {
     "data": {
      "text/plain": [
       "array([5, 5, 5, 5, 5, 5, 5, 5, 5, 5])"
      ]
     },
     "execution_count": 11,
     "metadata": {},
     "output_type": "execute_result"
    }
   ],
   "source": [
    "fivesarr"
   ]
  },
  {
   "cell_type": "code",
   "execution_count": 12,
   "id": "c6505c36",
   "metadata": {},
   "outputs": [],
   "source": [
    "# 5. Create an array of the integers from 10 to 50"
   ]
  },
  {
   "cell_type": "code",
   "execution_count": 13,
   "id": "a9514890",
   "metadata": {},
   "outputs": [],
   "source": [
    "tentofiftyarrbase = np.arange(0,41)\n",
    "tentofiftyarr = tentofiftyarrbase + 10"
   ]
  },
  {
   "cell_type": "code",
   "execution_count": 14,
   "id": "69e43baa",
   "metadata": {},
   "outputs": [
    {
     "data": {
      "text/plain": [
       "array([10, 11, 12, 13, 14, 15, 16, 17, 18, 19, 20, 21, 22, 23, 24, 25, 26,\n",
       "       27, 28, 29, 30, 31, 32, 33, 34, 35, 36, 37, 38, 39, 40, 41, 42, 43,\n",
       "       44, 45, 46, 47, 48, 49, 50])"
      ]
     },
     "execution_count": 14,
     "metadata": {},
     "output_type": "execute_result"
    }
   ],
   "source": [
    "tentofiftyarr"
   ]
  },
  {
   "cell_type": "code",
   "execution_count": 15,
   "id": "731500d5",
   "metadata": {},
   "outputs": [],
   "source": [
    "# 6. Create an array of all the even integers from 10 to 50"
   ]
  },
  {
   "cell_type": "code",
   "execution_count": 16,
   "id": "22b86286",
   "metadata": {},
   "outputs": [],
   "source": [
    "modtentofiftyarr = tentofiftyarr % 2\n",
    "boolmodtentofiftyarr = modtentofiftyarr <= 0"
   ]
  },
  {
   "cell_type": "code",
   "execution_count": 17,
   "id": "8c3218e4",
   "metadata": {},
   "outputs": [
    {
     "data": {
      "text/plain": [
       "array([10, 12, 14, 16, 18, 20, 22, 24, 26, 28, 30, 32, 34, 36, 38, 40, 42,\n",
       "       44, 46, 48, 50])"
      ]
     },
     "execution_count": 17,
     "metadata": {},
     "output_type": "execute_result"
    }
   ],
   "source": [
    "tentofiftyarr[boolmodtentofiftyarr]"
   ]
  },
  {
   "cell_type": "code",
   "execution_count": 18,
   "id": "27ac8d2a",
   "metadata": {},
   "outputs": [],
   "source": [
    "# 7. Create a 3x3 matrix with values ranging from 0 to 8."
   ]
  },
  {
   "cell_type": "code",
   "execution_count": 19,
   "id": "909707d7",
   "metadata": {},
   "outputs": [
    {
     "data": {
      "text/plain": [
       "array([[0, 1, 2],\n",
       "       [3, 4, 5],\n",
       "       [6, 7, 8]])"
      ]
     },
     "execution_count": 19,
     "metadata": {},
     "output_type": "execute_result"
    }
   ],
   "source": [
    "np.array([[0,1,2],[3,4,5],[6,7,8]])"
   ]
  },
  {
   "cell_type": "code",
   "execution_count": 20,
   "id": "ad5c34ef",
   "metadata": {},
   "outputs": [],
   "source": [
    "# 8. Create a 3x3 identity matrix"
   ]
  },
  {
   "cell_type": "code",
   "execution_count": 21,
   "id": "5875ce40",
   "metadata": {},
   "outputs": [
    {
     "data": {
      "text/plain": [
       "array([[1., 0., 0.],\n",
       "       [0., 1., 0.],\n",
       "       [0., 0., 1.]])"
      ]
     },
     "execution_count": 21,
     "metadata": {},
     "output_type": "execute_result"
    }
   ],
   "source": [
    "np.identity(3)"
   ]
  },
  {
   "cell_type": "code",
   "execution_count": 22,
   "id": "970bf731",
   "metadata": {},
   "outputs": [],
   "source": [
    "# 9. Use NumPy to generate a random number between 0 and 1"
   ]
  },
  {
   "cell_type": "code",
   "execution_count": 23,
   "id": "564328b0",
   "metadata": {},
   "outputs": [
    {
     "data": {
      "text/plain": [
       "array([0.82915885])"
      ]
     },
     "execution_count": 23,
     "metadata": {},
     "output_type": "execute_result"
    }
   ],
   "source": [
    "np.random.normal(0,1,1)"
   ]
  },
  {
   "cell_type": "code",
   "execution_count": 24,
   "id": "5a0a8d55",
   "metadata": {},
   "outputs": [],
   "source": [
    "# 10. Use NumPy to genereate an array of 25 random numbers sampled from a standard normal distribution"
   ]
  },
  {
   "cell_type": "code",
   "execution_count": 25,
   "id": "e3667c67",
   "metadata": {},
   "outputs": [
    {
     "data": {
      "text/plain": [
       "array([ 1.69035964,  1.72231751,  0.6755616 ,  0.48767878,  1.17089727,\n",
       "        1.5386021 , -0.07305095, -1.25677276,  0.84956853, -0.41079457,\n",
       "       -0.52599406, -0.10947643, -0.73281755,  0.78043984,  1.11595434,\n",
       "        0.40143647,  1.15950005,  1.34987385,  1.25833908,  1.10234517,\n",
       "        0.26766619,  0.59208527,  1.43197373, -0.24440521,  1.02208283])"
      ]
     },
     "execution_count": 25,
     "metadata": {},
     "output_type": "execute_result"
    }
   ],
   "source": [
    "np.random.normal(0,1,25)"
   ]
  },
  {
   "cell_type": "code",
   "execution_count": 26,
   "id": "60e72c88",
   "metadata": {},
   "outputs": [],
   "source": [
    "# 11. Create a 10x10 matrix that goes from 0.01 to 1"
   ]
  },
  {
   "cell_type": "code",
   "execution_count": 27,
   "id": "7bd2e243",
   "metadata": {},
   "outputs": [
    {
     "data": {
      "text/plain": [
       "array([0.01, 0.02, 0.03, 0.04, 0.05, 0.06, 0.07, 0.08, 0.09, 0.1 , 0.11,\n",
       "       0.12, 0.13, 0.14, 0.15, 0.16, 0.17, 0.18, 0.19, 0.2 , 0.21, 0.22,\n",
       "       0.23, 0.24, 0.25, 0.26, 0.27, 0.28, 0.29, 0.3 , 0.31, 0.32, 0.33,\n",
       "       0.34, 0.35, 0.36, 0.37, 0.38, 0.39, 0.4 , 0.41, 0.42, 0.43, 0.44,\n",
       "       0.45, 0.46, 0.47, 0.48, 0.49, 0.5 , 0.51, 0.52, 0.53, 0.54, 0.55,\n",
       "       0.56, 0.57, 0.58, 0.59, 0.6 , 0.61, 0.62, 0.63, 0.64, 0.65, 0.66,\n",
       "       0.67, 0.68, 0.69, 0.7 , 0.71, 0.72, 0.73, 0.74, 0.75, 0.76, 0.77,\n",
       "       0.78, 0.79, 0.8 , 0.81, 0.82, 0.83, 0.84, 0.85, 0.86, 0.87, 0.88,\n",
       "       0.89, 0.9 , 0.91, 0.92, 0.93, 0.94, 0.95, 0.96, 0.97, 0.98, 0.99,\n",
       "       1.  ])"
      ]
     },
     "execution_count": 27,
     "metadata": {},
     "output_type": "execute_result"
    }
   ],
   "source": [
    "np.arange(1,101)/100"
   ]
  },
  {
   "cell_type": "code",
   "execution_count": 28,
   "id": "a52a2ea9",
   "metadata": {},
   "outputs": [],
   "source": [
    "# 12. Create an array of 20 linearly-spaced points between 0 to 1."
   ]
  },
  {
   "cell_type": "code",
   "execution_count": 29,
   "id": "92fa04e7",
   "metadata": {},
   "outputs": [
    {
     "data": {
      "text/plain": [
       "array([0.05, 0.1 , 0.15, 0.2 , 0.25, 0.3 , 0.35, 0.4 , 0.45, 0.5 , 0.55,\n",
       "       0.6 , 0.65, 0.7 , 0.75, 0.8 , 0.85, 0.9 , 0.95, 1.  ])"
      ]
     },
     "execution_count": 29,
     "metadata": {},
     "output_type": "execute_result"
    }
   ],
   "source": [
    "np.arange(1,21)/20"
   ]
  },
  {
   "cell_type": "markdown",
   "id": "0660fe30",
   "metadata": {},
   "source": [
    "# NumPy Indexing and Selection"
   ]
  },
  {
   "cell_type": "markdown",
   "id": "e9d7103e",
   "metadata": {},
   "source": [
    "Now you will be given a starting matrix and asked to replicate the matrix based on the image. You can see the image in the \"All Exercises\" subdirectory at `My-AI/NumPy Basics/NumPy Basic Exercises/All Exercises/Task 12-13`"
   ]
  },
  {
   "cell_type": "code",
   "execution_count": 30,
   "id": "b4e02557",
   "metadata": {},
   "outputs": [],
   "source": [
    "# Run this code, this is our starting matrix."
   ]
  },
  {
   "cell_type": "code",
   "execution_count": 31,
   "id": "1a8d3477",
   "metadata": {},
   "outputs": [
    {
     "data": {
      "text/plain": [
       "array([[ 1,  2,  3,  4,  5],\n",
       "       [ 6,  7,  8,  9, 10],\n",
       "       [11, 12, 13, 14, 15],\n",
       "       [16, 17, 18, 19, 20],\n",
       "       [21, 22, 23, 24, 25]])"
      ]
     },
     "execution_count": 31,
     "metadata": {},
     "output_type": "execute_result"
    }
   ],
   "source": [
    "mat = np.arange(1,26).reshape(5,5)\n",
    "mat"
   ]
  },
  {
   "cell_type": "code",
   "execution_count": 32,
   "id": "0c1ac790",
   "metadata": {},
   "outputs": [],
   "source": [
    "#"
   ]
  }
 ],
 "metadata": {
  "kernelspec": {
   "display_name": "Python 3 (ipykernel)",
   "language": "python",
   "name": "python3"
  },
  "language_info": {
   "codemirror_mode": {
    "name": "ipython",
    "version": 3
   },
   "file_extension": ".py",
   "mimetype": "text/x-python",
   "name": "python",
   "nbconvert_exporter": "python",
   "pygments_lexer": "ipython3",
   "version": "3.10.4"
  }
 },
 "nbformat": 4,
 "nbformat_minor": 5
}
