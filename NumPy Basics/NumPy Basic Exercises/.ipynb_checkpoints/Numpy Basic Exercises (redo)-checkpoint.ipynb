{
 "cells": [
  {
   "cell_type": "markdown",
   "id": "045a8772",
   "metadata": {},
   "source": [
    "#### 1. Import NumPy as np"
   ]
  },
  {
   "cell_type": "code",
   "execution_count": 1,
   "id": "92dfcdc5",
   "metadata": {},
   "outputs": [],
   "source": [
    "import numpy as np"
   ]
  },
  {
   "cell_type": "markdown",
   "id": "f87cb815",
   "metadata": {},
   "source": [
    "#### 2. Create an array of 10 zeros"
   ]
  },
  {
   "cell_type": "code",
   "execution_count": 2,
   "id": "1acbaeef",
   "metadata": {},
   "outputs": [
    {
     "data": {
      "text/plain": [
       "array([0., 0., 0., 0., 0., 0., 0., 0., 0., 0.])"
      ]
     },
     "execution_count": 2,
     "metadata": {},
     "output_type": "execute_result"
    }
   ],
   "source": [
    "zerosArr = np.zeros(10)\n",
    "zerosArr"
   ]
  },
  {
   "cell_type": "markdown",
   "id": "7499c248",
   "metadata": {},
   "source": [
    "#### 3. Create an array of 10 ones"
   ]
  },
  {
   "cell_type": "code",
   "execution_count": 3,
   "id": "9f2c63d7",
   "metadata": {},
   "outputs": [
    {
     "data": {
      "text/plain": [
       "array([1., 1., 1., 1., 1., 1., 1., 1., 1., 1.])"
      ]
     },
     "execution_count": 3,
     "metadata": {},
     "output_type": "execute_result"
    }
   ],
   "source": [
    "onesArr = np.ones(10)\n",
    "onesArr"
   ]
  },
  {
   "cell_type": "markdown",
   "id": "e15c448d",
   "metadata": {},
   "source": [
    "#### 4. Create an array of 10 fives"
   ]
  },
  {
   "cell_type": "code",
   "execution_count": 4,
   "id": "61a2e8a6",
   "metadata": {},
   "outputs": [
    {
     "data": {
      "text/plain": [
       "array([5, 5, 5, 5, 5, 5, 5, 5, 5, 5])"
      ]
     },
     "execution_count": 4,
     "metadata": {},
     "output_type": "execute_result"
    }
   ],
   "source": [
    "fivesArr = np.arange(0,10)\n",
    "fivesArr[0:] = 5\n",
    "fivesArr"
   ]
  },
  {
   "cell_type": "markdown",
   "id": "a1f573de-2cd0-46d6-a541-e147ba53705f",
   "metadata": {},
   "source": [
    "#### 5. Create an array of the integers from 10 to 50"
   ]
  },
  {
   "cell_type": "code",
   "execution_count": 5,
   "id": "47cc0f59-3a7a-4008-af03-f0bc7664024e",
   "metadata": {},
   "outputs": [
    {
     "data": {
      "text/plain": [
       "array([10, 11, 12, 13, 14, 15, 16, 17, 18, 19, 20, 21, 22, 23, 24, 25, 26,\n",
       "       27, 28, 29, 30, 31, 32, 33, 34, 35, 36, 37, 38, 39, 40, 41, 42, 43,\n",
       "       44, 45, 46, 47, 48, 49, 50])"
      ]
     },
     "execution_count": 5,
     "metadata": {},
     "output_type": "execute_result"
    }
   ],
   "source": [
    "tenToFiftyArr = np.arange(10,51)\n",
    "tenToFiftyArr"
   ]
  },
  {
   "cell_type": "code",
   "execution_count": null,
   "id": "a5cabcb6-e83f-4b07-8d51-fb59029b5fc5",
   "metadata": {},
   "outputs": [],
   "source": []
  }
 ],
 "metadata": {
  "kernelspec": {
   "display_name": "Python 3 (ipykernel)",
   "language": "python",
   "name": "python3"
  },
  "language_info": {
   "codemirror_mode": {
    "name": "ipython",
    "version": 3
   },
   "file_extension": ".py",
   "mimetype": "text/x-python",
   "name": "python",
   "nbconvert_exporter": "python",
   "pygments_lexer": "ipython3",
   "version": "3.10.6"
  }
 },
 "nbformat": 4,
 "nbformat_minor": 5
}
