{
 "cells": [
  {
   "cell_type": "code",
   "execution_count": 1,
   "id": "21d771b8",
   "metadata": {},
   "outputs": [],
   "source": [
    "# Import NumPy as np, create an array of ten zeros and an array of ten ones, and show those two arrays"
   ]
  },
  {
   "cell_type": "code",
   "execution_count": 2,
   "id": "63864eb6",
   "metadata": {},
   "outputs": [],
   "source": [
    "import numpy as np"
   ]
  },
  {
   "cell_type": "code",
   "execution_count": 3,
   "id": "07a02da0",
   "metadata": {},
   "outputs": [],
   "source": [
    "arrzeros = np.arange(0,10)\n",
    "arrzeros[0:10] = 0"
   ]
  },
  {
   "cell_type": "code",
   "execution_count": 4,
   "id": "358592c1",
   "metadata": {},
   "outputs": [
    {
     "data": {
      "text/plain": [
       "array([0, 0, 0, 0, 0, 0, 0, 0, 0, 0])"
      ]
     },
     "execution_count": 4,
     "metadata": {},
     "output_type": "execute_result"
    }
   ],
   "source": [
    "arrzeros"
   ]
  },
  {
   "cell_type": "code",
   "execution_count": 5,
   "id": "56edbd04",
   "metadata": {},
   "outputs": [],
   "source": [
    "arrones = np.arange(0,10)\n",
    "arrones[0:10] = 1"
   ]
  },
  {
   "cell_type": "code",
   "execution_count": 6,
   "id": "a375ffcd",
   "metadata": {},
   "outputs": [
    {
     "data": {
      "text/plain": [
       "array([1, 1, 1, 1, 1, 1, 1, 1, 1, 1])"
      ]
     },
     "execution_count": 6,
     "metadata": {},
     "output_type": "execute_result"
    }
   ],
   "source": [
    "arrones"
   ]
  },
  {
   "cell_type": "code",
   "execution_count": null,
   "id": "4390bef3",
   "metadata": {},
   "outputs": [],
   "source": []
  }
 ],
 "metadata": {
  "kernelspec": {
   "display_name": "Python 3 (ipykernel)",
   "language": "python",
   "name": "python3"
  },
  "language_info": {
   "codemirror_mode": {
    "name": "ipython",
    "version": 3
   },
   "file_extension": ".py",
   "mimetype": "text/x-python",
   "name": "python",
   "nbconvert_exporter": "python",
   "pygments_lexer": "ipython3",
   "version": "3.9.12"
  }
 },
 "nbformat": 4,
 "nbformat_minor": 5
}
