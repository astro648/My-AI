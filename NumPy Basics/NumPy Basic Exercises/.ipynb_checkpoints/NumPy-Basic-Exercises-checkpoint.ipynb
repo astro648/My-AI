{
 "cells": [
  {
   "cell_type": "code",
   "execution_count": 1,
   "id": "69c4a39d",
   "metadata": {},
   "outputs": [],
   "source": [
    "# 1. Import NumPy as np"
   ]
  },
  {
   "cell_type": "code",
   "execution_count": 2,
   "id": "92cb1fda",
   "metadata": {},
   "outputs": [],
   "source": [
    "import numpy as np"
   ]
  },
  {
   "cell_type": "code",
   "execution_count": 3,
   "id": "75f7e038",
   "metadata": {},
   "outputs": [],
   "source": [
    "# 2. Create an array of ten zeros"
   ]
  },
  {
   "cell_type": "code",
   "execution_count": 4,
   "id": "2d8392e1",
   "metadata": {},
   "outputs": [],
   "source": [
    "zerosarr = np.arange(0,10)\n",
    "zerosarr[0:] = 0"
   ]
  },
  {
   "cell_type": "code",
   "execution_count": 5,
   "id": "761c8e13",
   "metadata": {},
   "outputs": [
    {
     "data": {
      "text/plain": [
       "array([0, 0, 0, 0, 0, 0, 0, 0, 0, 0])"
      ]
     },
     "execution_count": 5,
     "metadata": {},
     "output_type": "execute_result"
    }
   ],
   "source": [
    "zerosarr"
   ]
  },
  {
   "cell_type": "code",
   "execution_count": 6,
   "id": "48db960e",
   "metadata": {},
   "outputs": [],
   "source": [
    "# 3. Create an array of ten ones"
   ]
  },
  {
   "cell_type": "code",
   "execution_count": 7,
   "id": "ffb0f00a",
   "metadata": {},
   "outputs": [],
   "source": [
    "onesarr = np.arange(0,10)\n",
    "onesarr[0:] = 0"
   ]
  },
  {
   "cell_type": "code",
   "execution_count": 8,
   "id": "4723edc2",
   "metadata": {},
   "outputs": [
    {
     "data": {
      "text/plain": [
       "array([0, 0, 0, 0, 0, 0, 0, 0, 0, 0])"
      ]
     },
     "execution_count": 8,
     "metadata": {},
     "output_type": "execute_result"
    }
   ],
   "source": [
    "onesarr"
   ]
  },
  {
   "cell_type": "code",
   "execution_count": 9,
   "id": "84556bdc",
   "metadata": {},
   "outputs": [],
   "source": [
    "# 4. Create an array of ten fives"
   ]
  },
  {
   "cell_type": "code",
   "execution_count": 10,
   "id": "b1bea226",
   "metadata": {},
   "outputs": [],
   "source": [
    "fivesarr = np.arange(0,10)\n",
    "fivesarr[0:] = 5"
   ]
  },
  {
   "cell_type": "code",
   "execution_count": 11,
   "id": "3bdcfd28",
   "metadata": {},
   "outputs": [
    {
     "data": {
      "text/plain": [
       "array([5, 5, 5, 5, 5, 5, 5, 5, 5, 5])"
      ]
     },
     "execution_count": 11,
     "metadata": {},
     "output_type": "execute_result"
    }
   ],
   "source": [
    "fivesarr"
   ]
  },
  {
   "cell_type": "code",
   "execution_count": null,
   "id": "57c852fc",
   "metadata": {},
   "outputs": [],
   "source": []
  }
 ],
 "metadata": {
  "kernelspec": {
   "display_name": "Python 3 (ipykernel)",
   "language": "python",
   "name": "python3"
  },
  "language_info": {
   "codemirror_mode": {
    "name": "ipython",
    "version": 3
   },
   "file_extension": ".py",
   "mimetype": "text/x-python",
   "name": "python",
   "nbconvert_exporter": "python",
   "pygments_lexer": "ipython3",
   "version": "3.9.12"
  }
 },
 "nbformat": 4,
 "nbformat_minor": 5
}
