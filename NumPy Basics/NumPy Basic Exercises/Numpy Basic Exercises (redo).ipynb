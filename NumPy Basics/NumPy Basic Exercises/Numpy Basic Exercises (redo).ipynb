{
 "cells": [
  {
   "cell_type": "markdown",
   "id": "2a227463-cfdc-4582-80dd-ae383ceb93be",
   "metadata": {},
   "source": [
    "# Numpy Basic Exercises (Redo)"
   ]
  },
  {
   "cell_type": "markdown",
   "id": "2a6681f4-48d8-40c9-8c63-439479535911",
   "metadata": {},
   "source": [
    "This time, I'm doing it with more knowledge of Python in general, and aim to make the code more optimized than last time."
   ]
  },
  {
   "cell_type": "markdown",
   "id": "045a8772",
   "metadata": {},
   "source": [
    "#### 1. Import NumPy as np"
   ]
  },
  {
   "cell_type": "code",
   "execution_count": 1,
   "id": "92dfcdc5",
   "metadata": {},
   "outputs": [],
   "source": [
    "import numpy as np"
   ]
  },
  {
   "cell_type": "markdown",
   "id": "f87cb815",
   "metadata": {},
   "source": [
    "#### 2. Create an array of 10 zeros"
   ]
  },
  {
   "cell_type": "code",
   "execution_count": 2,
   "id": "1acbaeef",
   "metadata": {},
   "outputs": [
    {
     "data": {
      "text/plain": [
       "array([0., 0., 0., 0., 0., 0., 0., 0., 0., 0.])"
      ]
     },
     "execution_count": 2,
     "metadata": {},
     "output_type": "execute_result"
    }
   ],
   "source": [
    "zerosArr = np.zeros(10)\n",
    "zerosArr"
   ]
  },
  {
   "cell_type": "markdown",
   "id": "7499c248",
   "metadata": {},
   "source": [
    "#### 3. Create an array of 10 ones"
   ]
  },
  {
   "cell_type": "code",
   "execution_count": 3,
   "id": "9f2c63d7",
   "metadata": {},
   "outputs": [
    {
     "data": {
      "text/plain": [
       "array([1., 1., 1., 1., 1., 1., 1., 1., 1., 1.])"
      ]
     },
     "execution_count": 3,
     "metadata": {},
     "output_type": "execute_result"
    }
   ],
   "source": [
    "onesArr = np.ones(10)\n",
    "onesArr"
   ]
  },
  {
   "cell_type": "markdown",
   "id": "e15c448d",
   "metadata": {},
   "source": [
    "#### 4. Create an array of 10 fives"
   ]
  },
  {
   "cell_type": "code",
   "execution_count": 4,
   "id": "61a2e8a6",
   "metadata": {},
   "outputs": [
    {
     "data": {
      "text/plain": [
       "array([5, 5, 5, 5, 5, 5, 5, 5, 5, 5])"
      ]
     },
     "execution_count": 4,
     "metadata": {},
     "output_type": "execute_result"
    }
   ],
   "source": [
    "fivesArr = np.arange(0,10)\n",
    "fivesArr[0:] = 5\n",
    "fivesArr"
   ]
  },
  {
   "cell_type": "markdown",
   "id": "a1f573de-2cd0-46d6-a541-e147ba53705f",
   "metadata": {},
   "source": [
    "#### 5. Create an array of the integers from 10 to 50"
   ]
  },
  {
   "cell_type": "code",
   "execution_count": 5,
   "id": "47cc0f59-3a7a-4008-af03-f0bc7664024e",
   "metadata": {},
   "outputs": [
    {
     "data": {
      "text/plain": [
       "array([10, 11, 12, 13, 14, 15, 16, 17, 18, 19, 20, 21, 22, 23, 24, 25, 26,\n",
       "       27, 28, 29, 30, 31, 32, 33, 34, 35, 36, 37, 38, 39, 40, 41, 42, 43,\n",
       "       44, 45, 46, 47, 48, 49, 50])"
      ]
     },
     "execution_count": 5,
     "metadata": {},
     "output_type": "execute_result"
    }
   ],
   "source": [
    "tenToFiftyArr = np.arange(10,51)\n",
    "tenToFiftyArr"
   ]
  },
  {
   "cell_type": "markdown",
   "id": "ca6bdfa1-b0fd-4ab9-a5e5-510605c457ee",
   "metadata": {},
   "source": [
    "#### 6. Create an array of all the even integers from 10 to 50."
   ]
  },
  {
   "cell_type": "code",
   "execution_count": 6,
   "id": "b7d58100-0392-45c1-8125-5ab923a0209c",
   "metadata": {},
   "outputs": [
    {
     "data": {
      "text/plain": [
       "array([10, 12, 14, 16, 18, 20, 22, 24, 26, 28, 30, 32, 34, 36, 38, 40, 42,\n",
       "       44, 46, 48, 50])"
      ]
     },
     "execution_count": 6,
     "metadata": {},
     "output_type": "execute_result"
    }
   ],
   "source": [
    "tenToFiftyEvenArr = tenToFiftyArr[(tenToFiftyArr % 2) <= 0]\n",
    "tenToFiftyEvenArr"
   ]
  },
  {
   "cell_type": "markdown",
   "id": "d53561e5-6e0d-4b9c-be04-f874b22aad36",
   "metadata": {},
   "source": [
    "#### 7. Create a 3x3 matrix with values ranging from 0 to 8"
   ]
  },
  {
   "cell_type": "code",
   "execution_count": 7,
   "id": "2dc1aec9-501f-41f9-af18-b57977ebead8",
   "metadata": {},
   "outputs": [
    {
     "data": {
      "text/plain": [
       "array([[0, 1, 2],\n",
       "       [3, 4, 5],\n",
       "       [6, 7, 8]])"
      ]
     },
     "execution_count": 7,
     "metadata": {},
     "output_type": "execute_result"
    }
   ],
   "source": [
    "np.array([[0,1,2],[3,4,5],[6,7,8]])"
   ]
  },
  {
   "cell_type": "markdown",
   "id": "51a406e3-1b27-46e3-ac14-fc27a0e44604",
   "metadata": {},
   "source": [
    "#### 8. Create a 3x3 identity matrix"
   ]
  },
  {
   "cell_type": "code",
   "execution_count": 8,
   "id": "61488eee-c180-4e4e-80d6-a01b1be74255",
   "metadata": {},
   "outputs": [
    {
     "data": {
      "text/plain": [
       "array([[1., 0., 0.],\n",
       "       [0., 1., 0.],\n",
       "       [0., 0., 1.]])"
      ]
     },
     "execution_count": 8,
     "metadata": {},
     "output_type": "execute_result"
    }
   ],
   "source": [
    "np.identity(3)"
   ]
  },
  {
   "cell_type": "markdown",
   "id": "20a6610e-f905-44cc-a5f9-387863b29452",
   "metadata": {},
   "source": [
    "#### 9. Use NumPy to generate a random number between 0 and 1"
   ]
  },
  {
   "cell_type": "code",
   "execution_count": 9,
   "id": "004dc38b-8fdb-4657-b7e4-81627f98adcb",
   "metadata": {},
   "outputs": [
    {
     "data": {
      "text/plain": [
       "array([0.64936776])"
      ]
     },
     "execution_count": 9,
     "metadata": {},
     "output_type": "execute_result"
    }
   ],
   "source": [
    "np.random.normal(0,1,1)"
   ]
  },
  {
   "cell_type": "code",
   "execution_count": null,
   "id": "501b2654-118f-42ab-ac92-96930c9e9ce8",
   "metadata": {},
   "outputs": [],
   "source": []
  }
 ],
 "metadata": {
  "kernelspec": {
   "display_name": "Python 3 (ipykernel)",
   "language": "python",
   "name": "python3"
  },
  "language_info": {
   "codemirror_mode": {
    "name": "ipython",
    "version": 3
   },
   "file_extension": ".py",
   "mimetype": "text/x-python",
   "name": "python",
   "nbconvert_exporter": "python",
   "pygments_lexer": "ipython3",
   "version": "3.10.6"
  }
 },
 "nbformat": 4,
 "nbformat_minor": 5
}
