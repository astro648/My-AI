{
 "cells": [
  {
   "cell_type": "markdown",
   "id": "2a227463-cfdc-4582-80dd-ae383ceb93be",
   "metadata": {},
   "source": [
    "# Numpy Basic Exercises (Redo)"
   ]
  },
  {
   "cell_type": "markdown",
   "id": "2a6681f4-48d8-40c9-8c63-439479535911",
   "metadata": {},
   "source": [
    "This time, I'm doing it with more knowledge of Python in general, and aim to make the code more optimized than last time."
   ]
  },
  {
   "cell_type": "markdown",
   "id": "045a8772",
   "metadata": {},
   "source": [
    "#### 1. Import NumPy as np"
   ]
  },
  {
   "cell_type": "code",
   "execution_count": 1,
   "id": "92dfcdc5",
   "metadata": {},
   "outputs": [],
   "source": [
    "import numpy as np"
   ]
  },
  {
   "cell_type": "markdown",
   "id": "f87cb815",
   "metadata": {},
   "source": [
    "#### 2. Create an array of 10 zeros"
   ]
  },
  {
   "cell_type": "code",
   "execution_count": 2,
   "id": "1acbaeef",
   "metadata": {},
   "outputs": [
    {
     "data": {
      "text/plain": [
       "array([0., 0., 0., 0., 0., 0., 0., 0., 0., 0.])"
      ]
     },
     "execution_count": 2,
     "metadata": {},
     "output_type": "execute_result"
    }
   ],
   "source": [
    "zerosArr = np.zeros(10)\n",
    "zerosArr"
   ]
  },
  {
   "cell_type": "markdown",
   "id": "7499c248",
   "metadata": {},
   "source": [
    "#### 3. Create an array of 10 ones"
   ]
  },
  {
   "cell_type": "code",
   "execution_count": 3,
   "id": "9f2c63d7",
   "metadata": {},
   "outputs": [
    {
     "data": {
      "text/plain": [
       "array([1., 1., 1., 1., 1., 1., 1., 1., 1., 1.])"
      ]
     },
     "execution_count": 3,
     "metadata": {},
     "output_type": "execute_result"
    }
   ],
   "source": [
    "onesArr = np.ones(10)\n",
    "onesArr"
   ]
  },
  {
   "cell_type": "markdown",
   "id": "e15c448d",
   "metadata": {},
   "source": [
    "#### 4. Create an array of 10 fives"
   ]
  },
  {
   "cell_type": "code",
   "execution_count": 4,
   "id": "61a2e8a6",
   "metadata": {},
   "outputs": [
    {
     "data": {
      "text/plain": [
       "array([5, 5, 5, 5, 5, 5, 5, 5, 5, 5])"
      ]
     },
     "execution_count": 4,
     "metadata": {},
     "output_type": "execute_result"
    }
   ],
   "source": [
    "fivesArr = np.arange(0,10)\n",
    "fivesArr[0:] = 5\n",
    "fivesArr"
   ]
  },
  {
   "cell_type": "markdown",
   "id": "a1f573de-2cd0-46d6-a541-e147ba53705f",
   "metadata": {},
   "source": [
    "#### 5. Create an array of the integers from 10 to 50"
   ]
  },
  {
   "cell_type": "code",
   "execution_count": 5,
   "id": "47cc0f59-3a7a-4008-af03-f0bc7664024e",
   "metadata": {},
   "outputs": [
    {
     "data": {
      "text/plain": [
       "array([10, 11, 12, 13, 14, 15, 16, 17, 18, 19, 20, 21, 22, 23, 24, 25, 26,\n",
       "       27, 28, 29, 30, 31, 32, 33, 34, 35, 36, 37, 38, 39, 40, 41, 42, 43,\n",
       "       44, 45, 46, 47, 48, 49, 50])"
      ]
     },
     "execution_count": 5,
     "metadata": {},
     "output_type": "execute_result"
    }
   ],
   "source": [
    "tenToFiftyArr = np.arange(10,51)\n",
    "tenToFiftyArr"
   ]
  },
  {
   "cell_type": "markdown",
   "id": "ca6bdfa1-b0fd-4ab9-a5e5-510605c457ee",
   "metadata": {},
   "source": [
    "#### 6. Create an array of all the even integers from 10 to 50."
   ]
  },
  {
   "cell_type": "code",
   "execution_count": 6,
   "id": "b7d58100-0392-45c1-8125-5ab923a0209c",
   "metadata": {},
   "outputs": [
    {
     "data": {
      "text/plain": [
       "array([10, 12, 14, 16, 18, 20, 22, 24, 26, 28, 30, 32, 34, 36, 38, 40, 42,\n",
       "       44, 46, 48, 50])"
      ]
     },
     "execution_count": 6,
     "metadata": {},
     "output_type": "execute_result"
    }
   ],
   "source": [
    "tenToFiftyEvenArr = tenToFiftyArr[(tenToFiftyArr % 2) <= 0]\n",
    "tenToFiftyEvenArr"
   ]
  },
  {
   "cell_type": "markdown",
   "id": "d53561e5-6e0d-4b9c-be04-f874b22aad36",
   "metadata": {},
   "source": [
    "#### 7. Create a 3x3 matrix with values ranging from 0 to 8"
   ]
  },
  {
   "cell_type": "code",
   "execution_count": 7,
   "id": "2dc1aec9-501f-41f9-af18-b57977ebead8",
   "metadata": {},
   "outputs": [
    {
     "data": {
      "text/plain": [
       "array([[0, 1, 2],\n",
       "       [3, 4, 5],\n",
       "       [6, 7, 8]])"
      ]
     },
     "execution_count": 7,
     "metadata": {},
     "output_type": "execute_result"
    }
   ],
   "source": [
    "np.array([[0,1,2],[3,4,5],[6,7,8]])"
   ]
  },
  {
   "cell_type": "markdown",
   "id": "51a406e3-1b27-46e3-ac14-fc27a0e44604",
   "metadata": {},
   "source": [
    "#### 8. Create a 3x3 identity matrix"
   ]
  },
  {
   "cell_type": "code",
   "execution_count": 8,
   "id": "61488eee-c180-4e4e-80d6-a01b1be74255",
   "metadata": {},
   "outputs": [
    {
     "data": {
      "text/plain": [
       "array([[1., 0., 0.],\n",
       "       [0., 1., 0.],\n",
       "       [0., 0., 1.]])"
      ]
     },
     "execution_count": 8,
     "metadata": {},
     "output_type": "execute_result"
    }
   ],
   "source": [
    "np.identity(3)"
   ]
  },
  {
   "cell_type": "markdown",
   "id": "20a6610e-f905-44cc-a5f9-387863b29452",
   "metadata": {},
   "source": [
    "#### 9. Use NumPy to generate a random number between 0 and 1"
   ]
  },
  {
   "cell_type": "code",
   "execution_count": 9,
   "id": "5e557cf2-0cae-4932-960d-7a5529d7f6b5",
   "metadata": {},
   "outputs": [
    {
     "data": {
      "text/plain": [
       "array([0.73124388])"
      ]
     },
     "execution_count": 9,
     "metadata": {},
     "output_type": "execute_result"
    }
   ],
   "source": [
    "# practically almost impossible to have an output above one, but statistically possible\n",
    "randZeroToOne = abs(np.random.normal(0,1,1))\n",
    "if randZeroToOne > 1:\n",
    "    randZeroToOne = randZeroToOne - 1\n",
    "randZeroToOne"
   ]
  },
  {
   "cell_type": "markdown",
   "id": "4ad58505-e3db-4d6c-aa7e-f1a71fcb6319",
   "metadata": {},
   "source": [
    "#### 10. Use NumPy to generate an array of 25 random numbers sampled from a standard normal distribution."
   ]
  },
  {
   "cell_type": "code",
   "execution_count": 10,
   "id": "9534fb57-13ff-4bb8-ad35-22c0d8007218",
   "metadata": {},
   "outputs": [
    {
     "data": {
      "text/plain": [
       "array([-0.62006574, -1.49982539,  0.819471  , -0.50099458, -0.36748172,\n",
       "       -0.12692143, -0.02299827, -0.07363728, -0.90970883,  0.3555848 ,\n",
       "        2.10331206,  0.42029094,  0.95046498,  1.01068074,  0.48818723,\n",
       "       -0.98963229, -1.27730427,  1.21170737, -0.2707955 ,  0.19852693,\n",
       "        0.27704557, -1.10164207, -0.43535481,  1.67444647, -0.97361109])"
      ]
     },
     "execution_count": 10,
     "metadata": {},
     "output_type": "execute_result"
    }
   ],
   "source": [
    "np.random.normal(0,1,25)"
   ]
  },
  {
   "cell_type": "markdown",
   "id": "bbbfe326-c94c-46d6-a29b-c1a30b80c501",
   "metadata": {},
   "source": [
    "#### 11. Create a 10x10 matrix that goes from 0.01 to 1"
   ]
  },
  {
   "cell_type": "code",
   "execution_count": 11,
   "id": "8611a4d7-f74c-451d-8190-ecb03b61ea84",
   "metadata": {},
   "outputs": [
    {
     "data": {
      "text/plain": [
       "array([0.01, 0.02, 0.03, 0.04, 0.05, 0.06, 0.07, 0.08, 0.09, 0.1 , 0.11,\n",
       "       0.12, 0.13, 0.14, 0.15, 0.16, 0.17, 0.18, 0.19, 0.2 , 0.21, 0.22,\n",
       "       0.23, 0.24, 0.25, 0.26, 0.27, 0.28, 0.29, 0.3 , 0.31, 0.32, 0.33,\n",
       "       0.34, 0.35, 0.36, 0.37, 0.38, 0.39, 0.4 , 0.41, 0.42, 0.43, 0.44,\n",
       "       0.45, 0.46, 0.47, 0.48, 0.49, 0.5 , 0.51, 0.52, 0.53, 0.54, 0.55,\n",
       "       0.56, 0.57, 0.58, 0.59, 0.6 , 0.61, 0.62, 0.63, 0.64, 0.65, 0.66,\n",
       "       0.67, 0.68, 0.69, 0.7 , 0.71, 0.72, 0.73, 0.74, 0.75, 0.76, 0.77,\n",
       "       0.78, 0.79, 0.8 , 0.81, 0.82, 0.83, 0.84, 0.85, 0.86, 0.87, 0.88,\n",
       "       0.89, 0.9 , 0.91, 0.92, 0.93, 0.94, 0.95, 0.96, 0.97, 0.98, 0.99,\n",
       "       1.  ])"
      ]
     },
     "execution_count": 11,
     "metadata": {},
     "output_type": "execute_result"
    }
   ],
   "source": [
    "np.arange(1,101)/100"
   ]
  },
  {
   "cell_type": "markdown",
   "id": "411dd0d9-56ea-4ad0-9658-63f42db154c7",
   "metadata": {},
   "source": [
    "#### 12. Create an array of 20 linearly spaced points between 0 and 1."
   ]
  },
  {
   "cell_type": "code",
   "execution_count": 12,
   "id": "c5417f71-ad4d-4ccd-978f-7eabb84b52c1",
   "metadata": {},
   "outputs": [
    {
     "data": {
      "text/plain": [
       "array([0.        , 0.05263158, 0.10526316, 0.15789474, 0.21052632,\n",
       "       0.26315789, 0.31578947, 0.36842105, 0.42105263, 0.47368421,\n",
       "       0.52631579, 0.57894737, 0.63157895, 0.68421053, 0.73684211,\n",
       "       0.78947368, 0.84210526, 0.89473684, 0.94736842, 1.        ])"
      ]
     },
     "execution_count": 12,
     "metadata": {},
     "output_type": "execute_result"
    }
   ],
   "source": [
    "np.linspace(0, 1, 20)"
   ]
  },
  {
   "cell_type": "markdown",
   "id": "64963063-bc90-4a92-aa93-52fae7f5d940",
   "metadata": {},
   "source": [
    "# Numpy Indexing and Selection"
   ]
  },
  {
   "cell_type": "markdown",
   "id": "a37ad5cc-7c1e-45cb-8526-b1843e4c5fc0",
   "metadata": {},
   "source": [
    "Now you will be given a starting matrix and asked to replicate the matrix based on the image. You can see the image in the \"All Exercises\" subdirectory at `My-AI/NumPy Basics/NumPy Basic Exercises/All Exercises/Task 12-13`"
   ]
  },
  {
   "cell_type": "markdown",
   "id": "04526734-edbb-4e0b-b669-ce5795757902",
   "metadata": {},
   "source": [
    "#### Run the code below, it's the starting matrix"
   ]
  },
  {
   "cell_type": "code",
   "execution_count": 13,
   "id": "27affb5e-39b8-48b7-8062-70d8ddf9158e",
   "metadata": {},
   "outputs": [
    {
     "data": {
      "text/plain": [
       "array([[ 1,  2,  3,  4,  5],\n",
       "       [ 6,  7,  8,  9, 10],\n",
       "       [11, 12, 13, 14, 15],\n",
       "       [16, 17, 18, 19, 20],\n",
       "       [21, 22, 23, 24, 25]])"
      ]
     },
     "execution_count": 13,
     "metadata": {},
     "output_type": "execute_result"
    }
   ],
   "source": [
    "mat = np.arange(1,26).reshape(5,5)\n",
    "mat"
   ]
  },
  {
   "cell_type": "markdown",
   "id": "67f73613-9e80-46d7-b4f1-ecce898d7bc3",
   "metadata": {},
   "source": [
    "#### 13. Write code that reproduces the output shown below."
   ]
  }
 ],
 "metadata": {
  "kernelspec": {
   "display_name": "Python 3 (ipykernel)",
   "language": "python",
   "name": "python3"
  },
  "language_info": {
   "codemirror_mode": {
    "name": "ipython",
    "version": 3
   },
   "file_extension": ".py",
   "mimetype": "text/x-python",
   "name": "python",
   "nbconvert_exporter": "python",
   "pygments_lexer": "ipython3",
   "version": "3.10.6"
  }
 },
 "nbformat": 4,
 "nbformat_minor": 5
}
