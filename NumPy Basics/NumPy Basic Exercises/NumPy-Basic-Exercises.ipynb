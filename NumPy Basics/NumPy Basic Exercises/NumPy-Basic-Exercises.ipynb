{
 "cells": [
  {
   "cell_type": "code",
   "execution_count": 1,
   "id": "927740e4",
   "metadata": {},
   "outputs": [],
   "source": [
    "# 1. Import NumPy as np"
   ]
  },
  {
   "cell_type": "code",
   "execution_count": 2,
   "id": "6fe0c4dc",
   "metadata": {},
   "outputs": [],
   "source": [
    "import numpy as np"
   ]
  },
  {
   "cell_type": "code",
   "execution_count": 3,
   "id": "99c8167d",
   "metadata": {},
   "outputs": [],
   "source": [
    "# 2. Create an array of ten zeros"
   ]
  },
  {
   "cell_type": "code",
   "execution_count": 4,
   "id": "bef394d6",
   "metadata": {},
   "outputs": [],
   "source": [
    "zerosarr = np.arange(0,10)\n",
    "zerosarr[0:] = 0"
   ]
  },
  {
   "cell_type": "code",
   "execution_count": 5,
   "id": "8df1c0f4",
   "metadata": {},
   "outputs": [
    {
     "data": {
      "text/plain": [
       "array([0, 0, 0, 0, 0, 0, 0, 0, 0, 0])"
      ]
     },
     "execution_count": 5,
     "metadata": {},
     "output_type": "execute_result"
    }
   ],
   "source": [
    "zerosarr"
   ]
  },
  {
   "cell_type": "code",
   "execution_count": 6,
   "id": "ef1d1783",
   "metadata": {},
   "outputs": [],
   "source": [
    "# 3. Create an array of ten ones"
   ]
  },
  {
   "cell_type": "code",
   "execution_count": 7,
   "id": "feb05d2d",
   "metadata": {},
   "outputs": [],
   "source": [
    "onesarr = np.arange(0,10)\n",
    "onesarr[0:] = 0"
   ]
  },
  {
   "cell_type": "code",
   "execution_count": 8,
   "id": "f6bfd755",
   "metadata": {},
   "outputs": [
    {
     "data": {
      "text/plain": [
       "array([0, 0, 0, 0, 0, 0, 0, 0, 0, 0])"
      ]
     },
     "execution_count": 8,
     "metadata": {},
     "output_type": "execute_result"
    }
   ],
   "source": [
    "onesarr"
   ]
  },
  {
   "cell_type": "code",
   "execution_count": null,
   "id": "9ca1e4cc",
   "metadata": {},
   "outputs": [],
   "source": []
  }
 ],
 "metadata": {
  "kernelspec": {
   "display_name": "Python 3 (ipykernel)",
   "language": "python",
   "name": "python3"
  },
  "language_info": {
   "codemirror_mode": {
    "name": "ipython",
    "version": 3
   },
   "file_extension": ".py",
   "mimetype": "text/x-python",
   "name": "python",
   "nbconvert_exporter": "python",
   "pygments_lexer": "ipython3",
   "version": "3.9.12"
  }
 },
 "nbformat": 4,
 "nbformat_minor": 5
}
