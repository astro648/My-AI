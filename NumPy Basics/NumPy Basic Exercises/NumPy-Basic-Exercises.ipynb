{
 "cells": [
  {
   "cell_type": "code",
   "execution_count": 1,
   "id": "2cc73f0c",
   "metadata": {},
   "outputs": [],
   "source": [
    "# 1. Import NumPy as np"
   ]
  },
  {
   "cell_type": "code",
   "execution_count": 2,
   "id": "331fcbb8",
   "metadata": {},
   "outputs": [],
   "source": [
    "import numpy as np"
   ]
  },
  {
   "cell_type": "code",
   "execution_count": 3,
   "id": "2918b495",
   "metadata": {},
   "outputs": [],
   "source": [
    "# 2. Create an array of ten zeros"
   ]
  },
  {
   "cell_type": "code",
   "execution_count": 4,
   "id": "61649125",
   "metadata": {},
   "outputs": [],
   "source": [
    "zerosarr = np.arange(0,10)\n",
    "zerosarr[0:] = 0"
   ]
  },
  {
   "cell_type": "code",
   "execution_count": 5,
   "id": "dcbadda7",
   "metadata": {},
   "outputs": [
    {
     "data": {
      "text/plain": [
       "array([0, 0, 0, 0, 0, 0, 0, 0, 0, 0])"
      ]
     },
     "execution_count": 5,
     "metadata": {},
     "output_type": "execute_result"
    }
   ],
   "source": [
    "zerosarr"
   ]
  },
  {
   "cell_type": "code",
   "execution_count": null,
   "id": "65ff4587",
   "metadata": {},
   "outputs": [],
   "source": []
  }
 ],
 "metadata": {
  "kernelspec": {
   "display_name": "Python 3 (ipykernel)",
   "language": "python",
   "name": "python3"
  },
  "language_info": {
   "codemirror_mode": {
    "name": "ipython",
    "version": 3
   },
   "file_extension": ".py",
   "mimetype": "text/x-python",
   "name": "python",
   "nbconvert_exporter": "python",
   "pygments_lexer": "ipython3",
   "version": "3.9.12"
  }
 },
 "nbformat": 4,
 "nbformat_minor": 5
}
