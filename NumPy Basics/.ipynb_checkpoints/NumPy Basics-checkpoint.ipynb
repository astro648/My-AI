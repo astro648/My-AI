{
 "cells": [
  {
   "cell_type": "code",
   "execution_count": 1,
   "id": "98abbb3e",
   "metadata": {},
   "outputs": [],
   "source": [
    "import numpy as np"
   ]
  },
  {
   "cell_type": "code",
   "execution_count": 2,
   "id": "ba9eaf92",
   "metadata": {},
   "outputs": [],
   "source": [
    "myList = [1,2,3]"
   ]
  },
  {
   "cell_type": "code",
   "execution_count": 3,
   "id": "9043527c",
   "metadata": {},
   "outputs": [
    {
     "data": {
      "text/plain": [
       "list"
      ]
     },
     "execution_count": 3,
     "metadata": {},
     "output_type": "execute_result"
    }
   ],
   "source": [
    "type(myList)"
   ]
  },
  {
   "cell_type": "code",
   "execution_count": 4,
   "id": "2a24483e",
   "metadata": {},
   "outputs": [
    {
     "data": {
      "text/plain": [
       "array([1, 2, 3])"
      ]
     },
     "execution_count": 4,
     "metadata": {},
     "output_type": "execute_result"
    }
   ],
   "source": [
    "np.array(myList)"
   ]
  },
  {
   "cell_type": "code",
   "execution_count": 5,
   "id": "b0390976",
   "metadata": {},
   "outputs": [
    {
     "data": {
      "text/plain": [
       "[1, 2, 3]"
      ]
     },
     "execution_count": 5,
     "metadata": {},
     "output_type": "execute_result"
    }
   ],
   "source": [
    "myList"
   ]
  },
  {
   "cell_type": "code",
   "execution_count": 6,
   "id": "212ae625",
   "metadata": {},
   "outputs": [],
   "source": [
    "myArray = np.array(myList)"
   ]
  },
  {
   "cell_type": "code",
   "execution_count": 7,
   "id": "1cfa396f",
   "metadata": {},
   "outputs": [
    {
     "data": {
      "text/plain": [
       "array([1, 2, 3])"
      ]
     },
     "execution_count": 7,
     "metadata": {},
     "output_type": "execute_result"
    }
   ],
   "source": [
    "myArray"
   ]
  },
  {
   "cell_type": "code",
   "execution_count": 8,
   "id": "b60d5b45",
   "metadata": {},
   "outputs": [
    {
     "data": {
      "text/plain": [
       "numpy.ndarray"
      ]
     },
     "execution_count": 8,
     "metadata": {},
     "output_type": "execute_result"
    }
   ],
   "source": [
    "type(myArray)"
   ]
  },
  {
   "cell_type": "code",
   "execution_count": 9,
   "id": "f995d0ae",
   "metadata": {},
   "outputs": [],
   "source": [
    "# numpy.ndarray means that it is converted to n-dimensional array"
   ]
  },
  {
   "cell_type": "code",
   "execution_count": 10,
   "id": "1666e9c8",
   "metadata": {},
   "outputs": [],
   "source": [
    "myMatrix = [[1,2,3],[4,5,6],[7,8,9]]"
   ]
  },
  {
   "cell_type": "code",
   "execution_count": 11,
   "id": "202665ca",
   "metadata": {},
   "outputs": [
    {
     "data": {
      "text/plain": [
       "[[1, 2, 3], [4, 5, 6], [7, 8, 9]]"
      ]
     },
     "execution_count": 11,
     "metadata": {},
     "output_type": "execute_result"
    }
   ],
   "source": [
    "myMatrix"
   ]
  },
  {
   "cell_type": "code",
   "execution_count": 12,
   "id": "78dc159f",
   "metadata": {},
   "outputs": [
    {
     "data": {
      "text/plain": [
       "array([[1, 2, 3],\n",
       "       [4, 5, 6],\n",
       "       [7, 8, 9]])"
      ]
     },
     "execution_count": 12,
     "metadata": {},
     "output_type": "execute_result"
    }
   ],
   "source": [
    "np.array(myMatrix)"
   ]
  },
  {
   "cell_type": "code",
   "execution_count": 13,
   "id": "ff89f5b7",
   "metadata": {},
   "outputs": [
    {
     "data": {
      "text/plain": [
       "array([0, 1, 2, 3, 4, 5, 6, 7, 8, 9])"
      ]
     },
     "execution_count": 13,
     "metadata": {},
     "output_type": "execute_result"
    }
   ],
   "source": [
    "np.arange(0,10)"
   ]
  },
  {
   "cell_type": "code",
   "execution_count": 14,
   "id": "9f688ceb",
   "metadata": {},
   "outputs": [
    {
     "data": {
      "text/plain": [
       "array([0, 2, 4, 6, 8])"
      ]
     },
     "execution_count": 14,
     "metadata": {},
     "output_type": "execute_result"
    }
   ],
   "source": [
    "np.arange(0,10,2)"
   ]
  },
  {
   "cell_type": "markdown",
   "id": "da7084d1",
   "metadata": {},
   "source": [
    "np.arange(0,101,2)"
   ]
  },
  {
   "cell_type": "code",
   "execution_count": 15,
   "id": "fbeb8ab7",
   "metadata": {},
   "outputs": [
    {
     "data": {
      "text/plain": [
       "array([  0,   2,   4,   6,   8,  10,  12,  14,  16,  18,  20,  22,  24,\n",
       "        26,  28,  30,  32,  34,  36,  38,  40,  42,  44,  46,  48,  50,\n",
       "        52,  54,  56,  58,  60,  62,  64,  66,  68,  70,  72,  74,  76,\n",
       "        78,  80,  82,  84,  86,  88,  90,  92,  94,  96,  98, 100])"
      ]
     },
     "execution_count": 15,
     "metadata": {},
     "output_type": "execute_result"
    }
   ],
   "source": [
    "np.arange(0,101,2)"
   ]
  },
  {
   "cell_type": "code",
   "execution_count": 16,
   "id": "2b6c1f0e",
   "metadata": {},
   "outputs": [
    {
     "data": {
      "text/plain": [
       "array([0., 0., 0., 0., 0.])"
      ]
     },
     "execution_count": 16,
     "metadata": {},
     "output_type": "execute_result"
    }
   ],
   "source": [
    "np.zeros(5)"
   ]
  },
  {
   "cell_type": "code",
   "execution_count": 17,
   "id": "04b9baf4",
   "metadata": {},
   "outputs": [
    {
     "data": {
      "text/plain": [
       "array([[0., 0., 0., 0., 0.],\n",
       "       [0., 0., 0., 0., 0.],\n",
       "       [0., 0., 0., 0., 0.],\n",
       "       [0., 0., 0., 0., 0.],\n",
       "       [0., 0., 0., 0., 0.]])"
      ]
     },
     "execution_count": 17,
     "metadata": {},
     "output_type": "execute_result"
    }
   ],
   "source": [
    "np.zeros((5,5))"
   ]
  },
  {
   "cell_type": "code",
   "execution_count": 18,
   "id": "3f3d3a5a",
   "metadata": {},
   "outputs": [
    {
     "data": {
      "text/plain": [
       "array([[0., 0., 0., 0., 0.],\n",
       "       [0., 0., 0., 0., 0.]])"
      ]
     },
     "execution_count": 18,
     "metadata": {},
     "output_type": "execute_result"
    }
   ],
   "source": [
    "np.zeros((2,5))"
   ]
  },
  {
   "cell_type": "code",
   "execution_count": 19,
   "id": "8b769e8e",
   "metadata": {},
   "outputs": [
    {
     "data": {
      "text/plain": [
       "array([[1., 1., 1., 1., 1.],\n",
       "       [1., 1., 1., 1., 1.],\n",
       "       [1., 1., 1., 1., 1.],\n",
       "       [1., 1., 1., 1., 1.],\n",
       "       [1., 1., 1., 1., 1.]])"
      ]
     },
     "execution_count": 19,
     "metadata": {},
     "output_type": "execute_result"
    }
   ],
   "source": [
    "np.ones((5,5))"
   ]
  },
  {
   "cell_type": "code",
   "execution_count": 20,
   "id": "cccf11b9",
   "metadata": {},
   "outputs": [],
   "source": [
    "arr = np.arange(0,11)"
   ]
  },
  {
   "cell_type": "code",
   "execution_count": 21,
   "id": "a409afd9",
   "metadata": {},
   "outputs": [
    {
     "data": {
      "text/plain": [
       "array([ 0,  1,  2,  3,  4,  5,  6,  7,  8,  9, 10])"
      ]
     },
     "execution_count": 21,
     "metadata": {},
     "output_type": "execute_result"
    }
   ],
   "source": [
    "arr"
   ]
  },
  {
   "cell_type": "code",
   "execution_count": 22,
   "id": "5276bb49",
   "metadata": {},
   "outputs": [
    {
     "data": {
      "text/plain": [
       "array([1, 2, 3, 4])"
      ]
     },
     "execution_count": 22,
     "metadata": {},
     "output_type": "execute_result"
    }
   ],
   "source": [
    "arr[1:5]"
   ]
  },
  {
   "cell_type": "code",
   "execution_count": 23,
   "id": "be590e53",
   "metadata": {},
   "outputs": [
    {
     "data": {
      "text/plain": [
       "array([5, 6, 7, 8])"
      ]
     },
     "execution_count": 23,
     "metadata": {},
     "output_type": "execute_result"
    }
   ],
   "source": [
    "arr [5:9]"
   ]
  },
  {
   "cell_type": "code",
   "execution_count": 24,
   "id": "64ba389d",
   "metadata": {},
   "outputs": [
    {
     "data": {
      "text/plain": [
       "array([ 5,  6,  7,  8,  9, 10])"
      ]
     },
     "execution_count": 24,
     "metadata": {},
     "output_type": "execute_result"
    }
   ],
   "source": [
    "arr[5:]"
   ]
  },
  {
   "cell_type": "code",
   "execution_count": 25,
   "id": "aac9cd9e",
   "metadata": {},
   "outputs": [],
   "source": [
    "# sliced arr"
   ]
  },
  {
   "cell_type": "code",
   "execution_count": 26,
   "id": "08992fae",
   "metadata": {},
   "outputs": [],
   "source": [
    "arr[0:5] = 100"
   ]
  },
  {
   "cell_type": "code",
   "execution_count": 27,
   "id": "e025ea62",
   "metadata": {
    "scrolled": true
   },
   "outputs": [
    {
     "data": {
      "text/plain": [
       "array([100, 100, 100, 100, 100,   5,   6,   7,   8,   9,  10])"
      ]
     },
     "execution_count": 27,
     "metadata": {},
     "output_type": "execute_result"
    }
   ],
   "source": [
    "arr"
   ]
  },
  {
   "cell_type": "code",
   "execution_count": 28,
   "id": "39480caf",
   "metadata": {},
   "outputs": [],
   "source": [
    "arr = np.arange(0,11)"
   ]
  },
  {
   "cell_type": "code",
   "execution_count": 29,
   "id": "0406e8b2",
   "metadata": {},
   "outputs": [],
   "source": [
    "sliceofarray = arr[0:5]"
   ]
  },
  {
   "cell_type": "code",
   "execution_count": 30,
   "id": "50b2cdbe",
   "metadata": {},
   "outputs": [
    {
     "data": {
      "text/plain": [
       "array([0, 1, 2, 3, 4])"
      ]
     },
     "execution_count": 30,
     "metadata": {},
     "output_type": "execute_result"
    }
   ],
   "source": [
    "sliceofarray"
   ]
  },
  {
   "cell_type": "code",
   "execution_count": 31,
   "id": "0a1a4d0b",
   "metadata": {},
   "outputs": [
    {
     "data": {
      "text/plain": [
       "array([ 0,  1,  2,  3,  4,  5,  6,  7,  8,  9, 10])"
      ]
     },
     "execution_count": 31,
     "metadata": {},
     "output_type": "execute_result"
    }
   ],
   "source": [
    "arr"
   ]
  },
  {
   "cell_type": "code",
   "execution_count": 32,
   "id": "7573ac0c",
   "metadata": {},
   "outputs": [],
   "source": [
    "sliceofarray[0:] = 99"
   ]
  },
  {
   "cell_type": "code",
   "execution_count": 33,
   "id": "391f2469",
   "metadata": {},
   "outputs": [
    {
     "data": {
      "text/plain": [
       "array([99, 99, 99, 99, 99])"
      ]
     },
     "execution_count": 33,
     "metadata": {},
     "output_type": "execute_result"
    }
   ],
   "source": [
    "sliceofarray"
   ]
  },
  {
   "cell_type": "code",
   "execution_count": 34,
   "id": "b9fe089c",
   "metadata": {},
   "outputs": [
    {
     "data": {
      "text/plain": [
       "array([99, 99, 99, 99, 99,  5,  6,  7,  8,  9, 10])"
      ]
     },
     "execution_count": 34,
     "metadata": {},
     "output_type": "execute_result"
    }
   ],
   "source": [
    "arr"
   ]
  },
  {
   "cell_type": "code",
   "execution_count": 35,
   "id": "bd16ebd3",
   "metadata": {},
   "outputs": [],
   "source": [
    "# overwriting values in the variable sliceofarray will also change values in the main NP array var, arr"
   ]
  },
  {
   "cell_type": "code",
   "execution_count": 36,
   "id": "d1204a07",
   "metadata": {},
   "outputs": [],
   "source": [
    "# we have only changed the values in sliceofarray but it will also reflect in main array"
   ]
  },
  {
   "cell_type": "code",
   "execution_count": 37,
   "id": "4b37ab98",
   "metadata": {},
   "outputs": [],
   "source": [
    "# this is called broadcasting"
   ]
  },
  {
   "cell_type": "code",
   "execution_count": 38,
   "id": "28d9e0c6",
   "metadata": {},
   "outputs": [],
   "source": [
    "# we have not copied arr into sliceofarray; rather, we have just gotten a piece of arr and passed it to sliceofarray."
   ]
  },
  {
   "cell_type": "code",
   "execution_count": 39,
   "id": "6ca8d640",
   "metadata": {},
   "outputs": [],
   "source": [
    "# now we will copy the main array to a new variable arr_copy"
   ]
  },
  {
   "cell_type": "code",
   "execution_count": 40,
   "id": "c9c403e2",
   "metadata": {},
   "outputs": [],
   "source": [
    "arr_copy = arr.copy()"
   ]
  },
  {
   "cell_type": "code",
   "execution_count": 41,
   "id": "cae93b30",
   "metadata": {},
   "outputs": [
    {
     "data": {
      "text/plain": [
       "array([99, 99, 99, 99, 99,  5,  6,  7,  8,  9, 10])"
      ]
     },
     "execution_count": 41,
     "metadata": {},
     "output_type": "execute_result"
    }
   ],
   "source": [
    "arr_copy"
   ]
  },
  {
   "cell_type": "code",
   "execution_count": 42,
   "id": "2c638394",
   "metadata": {},
   "outputs": [],
   "source": [
    "arr_copy[:] = 100 #only colon means from start to end"
   ]
  },
  {
   "cell_type": "code",
   "execution_count": 43,
   "id": "00c7fe49",
   "metadata": {},
   "outputs": [
    {
     "data": {
      "text/plain": [
       "array([100, 100, 100, 100, 100, 100, 100, 100, 100, 100, 100])"
      ]
     },
     "execution_count": 43,
     "metadata": {},
     "output_type": "execute_result"
    }
   ],
   "source": [
    "arr_copy"
   ]
  },
  {
   "cell_type": "code",
   "execution_count": 44,
   "id": "20ba701a",
   "metadata": {},
   "outputs": [
    {
     "data": {
      "text/plain": [
       "array([99, 99, 99, 99, 99,  5,  6,  7,  8,  9, 10])"
      ]
     },
     "execution_count": 44,
     "metadata": {},
     "output_type": "execute_result"
    }
   ],
   "source": [
    "arr"
   ]
  },
  {
   "cell_type": "code",
   "execution_count": 45,
   "id": "b5cb43b2",
   "metadata": {},
   "outputs": [],
   "source": [
    "# as you can see the original array is same"
   ]
  },
  {
   "cell_type": "code",
   "execution_count": 46,
   "id": "f6bf89f9",
   "metadata": {},
   "outputs": [],
   "source": [
    "arr_2d = np.array([[5,10,15],[2,4,6],[1,2,3]]) # new 2d array"
   ]
  },
  {
   "cell_type": "code",
   "execution_count": 47,
   "id": "9e3d5055",
   "metadata": {},
   "outputs": [
    {
     "data": {
      "text/plain": [
       "array([[ 5, 10, 15],\n",
       "       [ 2,  4,  6],\n",
       "       [ 1,  2,  3]])"
      ]
     },
     "execution_count": 47,
     "metadata": {},
     "output_type": "execute_result"
    }
   ],
   "source": [
    "arr_2d"
   ]
  },
  {
   "cell_type": "code",
   "execution_count": 48,
   "id": "85130c1c",
   "metadata": {},
   "outputs": [],
   "source": [
    "# the array is a square, but we must check"
   ]
  },
  {
   "cell_type": "code",
   "execution_count": 49,
   "id": "89fd8dfb",
   "metadata": {},
   "outputs": [
    {
     "data": {
      "text/plain": [
       "(3, 3)"
      ]
     },
     "execution_count": 49,
     "metadata": {},
     "output_type": "execute_result"
    }
   ],
   "source": [
    "arr_2d.shape"
   ]
  },
  {
   "cell_type": "code",
   "execution_count": 50,
   "id": "49950d7b",
   "metadata": {},
   "outputs": [],
   "source": [
    "# 3 rows, 3 columns"
   ]
  },
  {
   "cell_type": "code",
   "execution_count": 51,
   "id": "7b257ed0",
   "metadata": {},
   "outputs": [
    {
     "data": {
      "text/plain": [
       "array([ 5, 10, 15])"
      ]
     },
     "execution_count": 51,
     "metadata": {},
     "output_type": "execute_result"
    }
   ],
   "source": [
    "arr_2d[0]"
   ]
  },
  {
   "cell_type": "code",
   "execution_count": 52,
   "id": "e7555087",
   "metadata": {},
   "outputs": [],
   "source": [
    "# as you can see it shows only the first row"
   ]
  },
  {
   "cell_type": "code",
   "execution_count": 53,
   "id": "63b46bda",
   "metadata": {},
   "outputs": [
    {
     "data": {
      "text/plain": [
       "array([1, 2, 3])"
      ]
     },
     "execution_count": 53,
     "metadata": {},
     "output_type": "execute_result"
    }
   ],
   "source": [
    "arr_2d[2]"
   ]
  },
  {
   "cell_type": "code",
   "execution_count": 54,
   "id": "9f0b91e4",
   "metadata": {},
   "outputs": [],
   "source": [
    "# now it prints third line"
   ]
  },
  {
   "cell_type": "code",
   "execution_count": 55,
   "id": "76e85c8f",
   "metadata": {},
   "outputs": [
    {
     "data": {
      "text/plain": [
       "4"
      ]
     },
     "execution_count": 55,
     "metadata": {},
     "output_type": "execute_result"
    }
   ],
   "source": [
    "arr_2d[1,1]"
   ]
  },
  {
   "cell_type": "code",
   "execution_count": 56,
   "id": "8c10d6d0",
   "metadata": {},
   "outputs": [],
   "source": [
    "# now it prints the 1,1 in the array (2,2 to us but 1,1 to machine)"
   ]
  },
  {
   "cell_type": "code",
   "execution_count": 57,
   "id": "06e8da18",
   "metadata": {},
   "outputs": [
    {
     "data": {
      "text/plain": [
       "4"
      ]
     },
     "execution_count": 57,
     "metadata": {},
     "output_type": "execute_result"
    }
   ],
   "source": [
    "arr_2d[1][1]"
   ]
  },
  {
   "cell_type": "code",
   "execution_count": 58,
   "id": "3372d3c3",
   "metadata": {},
   "outputs": [],
   "source": [
    "# same output"
   ]
  },
  {
   "cell_type": "code",
   "execution_count": 59,
   "id": "8baaddbe",
   "metadata": {},
   "outputs": [
    {
     "data": {
      "text/plain": [
       "array([[ 5, 10, 15],\n",
       "       [ 2,  4,  6]])"
      ]
     },
     "execution_count": 59,
     "metadata": {},
     "output_type": "execute_result"
    }
   ],
   "source": [
    "arr_2d[0:2]"
   ]
  },
  {
   "cell_type": "code",
   "execution_count": 60,
   "id": "75be505c",
   "metadata": {},
   "outputs": [],
   "source": [
    "# now it prints the first two rows"
   ]
  },
  {
   "cell_type": "code",
   "execution_count": 61,
   "id": "50172fc7",
   "metadata": {},
   "outputs": [
    {
     "data": {
      "text/plain": [
       "array([[10, 15],\n",
       "       [ 4,  6]])"
      ]
     },
     "execution_count": 61,
     "metadata": {},
     "output_type": "execute_result"
    }
   ],
   "source": [
    "arr_2d[:2,1:]"
   ]
  },
  {
   "cell_type": "code",
   "execution_count": 62,
   "id": "576c78f8",
   "metadata": {},
   "outputs": [],
   "source": [
    "# now it prints the last two elements of the first two rows"
   ]
  },
  {
   "cell_type": "code",
   "execution_count": 63,
   "id": "96fbf929",
   "metadata": {},
   "outputs": [],
   "source": [
    "arr = np.arange(1,10)"
   ]
  },
  {
   "cell_type": "code",
   "execution_count": 64,
   "id": "bd8b61b2",
   "metadata": {},
   "outputs": [],
   "source": [
    "#reset main array arr"
   ]
  },
  {
   "cell_type": "code",
   "execution_count": 65,
   "id": "ae0521dc",
   "metadata": {},
   "outputs": [
    {
     "data": {
      "text/plain": [
       "array([1, 2, 3, 4, 5, 6, 7, 8, 9])"
      ]
     },
     "execution_count": 65,
     "metadata": {},
     "output_type": "execute_result"
    }
   ],
   "source": [
    "arr"
   ]
  },
  {
   "cell_type": "code",
   "execution_count": 66,
   "id": "3dd4be37",
   "metadata": {},
   "outputs": [
    {
     "data": {
      "text/plain": [
       "array([False, False, False, False, False,  True,  True,  True,  True])"
      ]
     },
     "execution_count": 66,
     "metadata": {},
     "output_type": "execute_result"
    }
   ],
   "source": [
    "arr > 5"
   ]
  },
  {
   "cell_type": "code",
   "execution_count": 67,
   "id": "ba124feb",
   "metadata": {},
   "outputs": [],
   "source": [
    "# displays which elements greater than 5"
   ]
  },
  {
   "cell_type": "code",
   "execution_count": 68,
   "id": "5e4fb08a",
   "metadata": {},
   "outputs": [],
   "source": [
    "bool_arr = arr > 5"
   ]
  },
  {
   "cell_type": "code",
   "execution_count": 69,
   "id": "cc9e81f9",
   "metadata": {},
   "outputs": [
    {
     "data": {
      "text/plain": [
       "array([False, False, False, False, False,  True,  True,  True,  True])"
      ]
     },
     "execution_count": 69,
     "metadata": {},
     "output_type": "execute_result"
    }
   ],
   "source": [
    "bool_arr"
   ]
  },
  {
   "cell_type": "code",
   "execution_count": 70,
   "id": "34f2d013",
   "metadata": {},
   "outputs": [],
   "source": [
    "# putting this into a variable"
   ]
  },
  {
   "cell_type": "code",
   "execution_count": 71,
   "id": "5da50bd6",
   "metadata": {},
   "outputs": [
    {
     "data": {
      "text/plain": [
       "array([6, 7, 8, 9])"
      ]
     },
     "execution_count": 71,
     "metadata": {},
     "output_type": "execute_result"
    }
   ],
   "source": [
    "arr[bool_arr]"
   ]
  },
  {
   "cell_type": "code",
   "execution_count": 72,
   "id": "511fdcc5",
   "metadata": {},
   "outputs": [],
   "source": [
    "# this shows only the values that match the statement arr > 5"
   ]
  },
  {
   "cell_type": "code",
   "execution_count": 73,
   "id": "e380fd33",
   "metadata": {},
   "outputs": [
    {
     "data": {
      "text/plain": [
       "array([6, 7, 8, 9])"
      ]
     },
     "execution_count": 73,
     "metadata": {},
     "output_type": "execute_result"
    }
   ],
   "source": [
    "arr[arr>5]"
   ]
  },
  {
   "cell_type": "code",
   "execution_count": 74,
   "id": "71672b46",
   "metadata": {},
   "outputs": [],
   "source": [
    "# second method"
   ]
  },
  {
   "cell_type": "code",
   "execution_count": 75,
   "id": "10f45abc",
   "metadata": {},
   "outputs": [],
   "source": [
    "# both methods work to display the same thing"
   ]
  },
  {
   "cell_type": "code",
   "execution_count": null,
   "id": "f7b1d274",
   "metadata": {},
   "outputs": [],
   "source": []
  }
 ],
 "metadata": {
  "kernelspec": {
   "display_name": "Python 3 (ipykernel)",
   "language": "python",
   "name": "python3"
  },
  "language_info": {
   "codemirror_mode": {
    "name": "ipython",
    "version": 3
   },
   "file_extension": ".py",
   "mimetype": "text/x-python",
   "name": "python",
   "nbconvert_exporter": "python",
   "pygments_lexer": "ipython3",
   "version": "3.9.12"
  }
 },
 "nbformat": 4,
 "nbformat_minor": 5
}
